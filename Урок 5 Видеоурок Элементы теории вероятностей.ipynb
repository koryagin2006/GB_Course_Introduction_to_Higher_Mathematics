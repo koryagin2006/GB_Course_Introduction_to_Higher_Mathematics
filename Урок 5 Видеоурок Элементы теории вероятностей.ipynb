{
  "nbformat": 4,
  "nbformat_minor": 0,
  "metadata": {
    "colab": {
      "name": "Урок 5. Видеоурок. Элементы теории вероятностей",
      "provenance": [],
      "collapsed_sections": [
        "Gj19uupdSPhs",
        "ynoA7_qCS3rS",
        "C2GvGi2RTLq1"
      ],
      "toc_visible": true
    },
    "language_info": {
      "codemirror_mode": {
        "name": "ipython",
        "version": 3
      },
      "file_extension": ".py",
      "mimetype": "text/x-python",
      "name": "python",
      "nbconvert_exporter": "python",
      "pygments_lexer": "ipython3",
      "version": "3.6.0"
    },
    "kernelspec": {
      "display_name": "Python 3",
      "language": "python",
      "name": "python3"
    }
  },
  "cells": [
    {
      "cell_type": "code",
      "metadata": {
        "id": "Fua95t3FpHHS",
        "colab_type": "code",
        "colab": {}
      },
      "source": [
        "%matplotlib inline\n",
        "import numpy as np\n",
        "import matplotlib.pyplot as plt\n",
        "import matplotlib.mlab as mlab\n",
        "\n",
        "import warnings\n",
        "warnings.filterwarnings('ignore')"
      ],
      "execution_count": 0,
      "outputs": []
    },
    {
      "cell_type": "markdown",
      "metadata": {
        "id": "Gj19uupdSPhs",
        "colab_type": "text"
      },
      "source": [
        "# Случайные и псевдослучайные числа. Вероятность"
      ]
    },
    {
      "cell_type": "markdown",
      "metadata": {
        "id": "wM4bOpUbSZ9_",
        "colab_type": "text"
      },
      "source": [
        "### Случайная величина"
      ]
    },
    {
      "cell_type": "markdown",
      "metadata": {
        "id": "JglGuPq_SpAO",
        "colab_type": "text"
      },
      "source": [
        "Случайное событие –  событие (А), которое либо происходит, либо не происходит (при определенной совокупности условий)\n",
        "\n",
        "Случайная величина – это численное выражение результата случайного события (переменная)\n",
        "\n",
        "Вероятность P(А) – степень возможности наступления некоторого случайного события А (относительная мера, количественная оценка) \n",
        "\n",
        "Относительная Частота – W(A)=m/n, \n",
        "где m – число появления событий А,\n",
        "n – общее число испытаний \n",
        "\n",
        "При больших n W(A)🡪P(А)"
      ]
    },
    {
      "cell_type": "markdown",
      "metadata": {
        "id": "KFSj4TpqSsPE",
        "colab_type": "text"
      },
      "source": [
        "### Терминология"
      ]
    },
    {
      "cell_type": "markdown",
      "metadata": {
        "id": "bsh93m6HSkWY",
        "colab_type": "text"
      },
      "source": [
        "- **Достоверное (невозможное) событие** – обязательно происходящее (заведомо не происходящее) при определенной совокупности условий\n",
        "- **Совместные (несовместные) события** – появление одного из них не исключает (исключает) появление других в одном и том же испытании\n",
        "- **Зависимые (независимые) события** – появление одного из них влияет (не влияет) на появление других\n",
        "- **Противоположное (дополнительное) событие** –состоит в непоявлении события А\n",
        "- **Полная группа событий** – такая совокупность событий, что в результате опыта обязательно должно произойти хотя бы одно из событий этой совокупности"
      ]
    },
    {
      "cell_type": "markdown",
      "metadata": {
        "id": "VUncb5qjSzNX",
        "colab_type": "text"
      },
      "source": [
        "### Теоремы теории вероятности"
      ]
    },
    {
      "cell_type": "markdown",
      "metadata": {
        "id": "fPpwsQeGSzWm",
        "colab_type": "text"
      },
      "source": [
        "- Если А и В несовместны: Р(А+В) = Р(А) + Р(В) \n",
        "- Если А, В, … – полная группа несовместных событий, то  Р(А) + Р(В) +  …. = 1\n",
        "- Для противоположных событий: Р(А) + Р(В)  =  1\n",
        "- Если А и В независимы:  Р(АВ) = Р(А)*Р(В)\n",
        "- Если А и В зависимы:   Р(АВ) = Р(А)*Р(В/A)\n"
      ]
    },
    {
      "cell_type": "markdown",
      "metadata": {
        "id": "ynoA7_qCS3rS",
        "colab_type": "text"
      },
      "source": [
        "### Метод Монте-Карло"
      ]
    },
    {
      "cell_type": "code",
      "metadata": {
        "id": "tZpC1e9JpHHZ",
        "colab_type": "code",
        "outputId": "f6687c9c-fd38-4478-b1cf-0407fe210019",
        "colab": {
          "base_uri": "https://localhost:8080/",
          "height": 35
        }
      },
      "source": [
        "# Генерация псевдослучайного числа\n",
        "np.random.uniform(0,1)"
      ],
      "execution_count": 0,
      "outputs": [
        {
          "output_type": "execute_result",
          "data": {
            "text/plain": [
              "0.28072341377749754"
            ]
          },
          "metadata": {
            "tags": []
          },
          "execution_count": 2
        }
      ]
    },
    {
      "cell_type": "code",
      "metadata": {
        "id": "6SIaQxfYpHHe",
        "colab_type": "code",
        "outputId": "c8083619-1fcf-4ccc-c45a-a03b47f4439e",
        "colab": {
          "base_uri": "https://localhost:8080/",
          "height": 191
        }
      },
      "source": [
        "# Реализация метода Монте-Карло при подбрасывании монеты\n",
        "for i in range(0, 5):\n",
        "    a = input('Нажмите Enter')\n",
        "    x = np.random.uniform(0, 10)\n",
        "    if x<5:\n",
        "        print(\"орел\")\n",
        "    else:\n",
        "        print(\"решка\")"
      ],
      "execution_count": 0,
      "outputs": [
        {
          "output_type": "stream",
          "text": [
            "Нажмите Enter\n",
            "орел\n",
            "Нажмите Enter\n",
            "орел\n",
            "Нажмите Enter\n",
            "решка\n",
            "Нажмите Enter\n",
            "орел\n",
            "Нажмите Enter\n",
            "решка\n"
          ],
          "name": "stdout"
        }
      ]
    },
    {
      "cell_type": "markdown",
      "metadata": {
        "id": "C2GvGi2RTLq1",
        "colab_type": "text"
      },
      "source": [
        "# Законы распределения"
      ]
    },
    {
      "cell_type": "markdown",
      "metadata": {
        "id": "dB1zvxLVTc0O",
        "colab_type": "text"
      },
      "source": [
        "### Закон распределения случайной величины\n"
      ]
    },
    {
      "cell_type": "markdown",
      "metadata": {
        "id": "xQIGwy5gTfn5",
        "colab_type": "text"
      },
      "source": [
        "### Плотность вероятности и функция распределения\n"
      ]
    },
    {
      "cell_type": "markdown",
      "metadata": {
        "id": "i53bVeHLqOog",
        "colab_type": "text"
      },
      "source": [
        "Генерация заданного количества псевдослучайных чисел"
      ]
    },
    {
      "cell_type": "code",
      "metadata": {
        "id": "6KVoyBtKnFQ7",
        "colab_type": "code",
        "outputId": "e70d37b7-6bde-4c60-fc8d-0a4defb52e37",
        "colab": {
          "base_uri": "https://localhost:8080/",
          "height": 35
        }
      },
      "source": [
        "# (если в параметр будет задано несколько чисел - то будет матрица)\n",
        "np.random.rand(5)"
      ],
      "execution_count": 0,
      "outputs": [
        {
          "output_type": "execute_result",
          "data": {
            "text/plain": [
              "array([0.32420535, 0.39431966, 0.44757057, 0.19168675, 0.40983856])"
            ]
          },
          "metadata": {
            "tags": []
          },
          "execution_count": 22
        }
      ]
    },
    {
      "cell_type": "markdown",
      "metadata": {
        "id": "buo07XsvqKoI",
        "colab_type": "text"
      },
      "source": [
        "Подсчет количества выпадений того или иного значения"
      ]
    },
    {
      "cell_type": "code",
      "metadata": {
        "id": "jjGj73wEnFvP",
        "colab_type": "code",
        "outputId": "4d89938b-c081-4135-d1d4-e9c011e34cc1",
        "colab": {
          "base_uri": "https://localhost:8080/",
          "height": 69
        }
      },
      "source": [
        "k,m = 0, 0  # начальные значения (k - орел, m - решка)\n",
        "n = 100  # объем выборки \n",
        "for i in range(0, n):\n",
        "    x = np.random.uniform(0, 10)\n",
        "    if x<5:\n",
        "        k = k + 1  \n",
        "    else:\n",
        "        m = m + 1\n",
        "print('Итого выпало:\\n{} раз \"орел\"\\n{} раз \"решка\"'.format(k,m))"
      ],
      "execution_count": 0,
      "outputs": [
        {
          "output_type": "stream",
          "text": [
            "Итого выпало:\n",
            "52 раз \"орел\"\n",
            "48 раз \"решка\"\n"
          ],
          "name": "stdout"
        }
      ]
    },
    {
      "cell_type": "markdown",
      "metadata": {
        "id": "7TfCbXpzThPR",
        "colab_type": "text"
      },
      "source": [
        "### Построение гистограммы"
      ]
    },
    {
      "cell_type": "code",
      "metadata": {
        "id": "B5o858QjnIgs",
        "colab_type": "code",
        "outputId": "55e9c71c-d348-4c1e-d94f-5e3e2205cd73",
        "colab": {
          "base_uri": "https://localhost:8080/",
          "height": 295
        }
      },
      "source": [
        "x = np.random.rand(100)  # 1000 - объем выборки\n",
        "num_bins = 5  # количество бинов\n",
        "n, bins, patches = plt.hist(x, num_bins)\n",
        "plt.xlabel('x')\n",
        "plt.ylabel('Probability')\n",
        "plt.title('Histogram');"
      ],
      "execution_count": 0,
      "outputs": [
        {
          "output_type": "display_data",
          "data": {
            "image/png": "[encoded data removed]",
            "text/plain": [
              "<Figure size 432x288 with 1 Axes>"
            ]
          },
          "metadata": {
            "tags": []
          }
        }
      ]
    },
    {
      "cell_type": "markdown",
      "metadata": {
        "colab_type": "text",
        "id": "nBMYhwap41dG"
      },
      "source": [
        "### Среднее, дисперсия, стандартное отклонение"
      ]
    },
    {
      "cell_type": "code",
      "metadata": {
        "id": "2fI5i_Lds_Vt",
        "colab_type": "code",
        "outputId": "da6a8de3-e54a-4a8d-acaf-d9f1af0fd1c7",
        "colab": {
          "base_uri": "https://localhost:8080/",
          "height": 279
        }
      },
      "source": [
        "from scipy.stats import norm\n",
        "import matplotlib.pyplot as plt\n",
        "\n",
        "fig, ax = plt.subplots(1, 1)\n",
        "mean, var, skew, kurt = norm.stats(moments='mvsk')\n",
        "x = np.linspace(norm.ppf(0.01),norm.ppf(0.99), 100)\n",
        "ax.plot(x, norm.pdf(x),'r-', lw=5, alpha=0.6, label='norm pdf')\n",
        "\n",
        "rv = norm()\n",
        "ax.plot(x, rv.pdf(x), 'k-', lw=2, label='frozen pdf')\n",
        "\n",
        "vals = norm.ppf([0.001, 0.5, 0.999])\n",
        "np.allclose([0.001, 0.5, 0.999], norm.cdf(vals))\n",
        "r = norm.rvs(size=1000)\n",
        "ax.hist(r, density=True, histtype='stepfilled', alpha=0.2)\n",
        "ax.legend(loc='best', frameon=False)\n",
        "plt.grid()\n",
        "plt.xlabel('x')\n",
        "plt.ylabel('Probability')\n",
        "plt.show()"
      ],
      "execution_count": 0,
      "outputs": [
        {
          "output_type": "display_data",
          "data": {
            "image/png": "[encoded data removed]",
            "text/plain": [
              "<Figure size 432x288 with 1 Axes>"
            ]
          },
          "metadata": {
            "tags": []
          }
        }
      ]
    },
    {
      "cell_type": "markdown",
      "metadata": {
        "id": "6VwDxEYm43st",
        "colab_type": "text"
      },
      "source": [
        "# Последовательность независимых испытаний"
      ]
    },
    {
      "cell_type": "markdown",
      "metadata": {
        "id": "j0VMseTY_u-8",
        "colab_type": "text"
      },
      "source": [
        "Пример: модель Монте-Карло в Python"
      ]
    },
    {
      "cell_type": "markdown",
      "metadata": {
        "id": "QDlhCdVF8gfb",
        "colab_type": "text"
      },
      "source": [
        "Задача - какова вероятность вываления \"орла\" монеткой 2 раза подряд?"
      ]
    },
    {
      "cell_type": "code",
      "metadata": {
        "id": "U4s55Z4N_78X",
        "colab_type": "code",
        "outputId": "77feaee4-fe9c-4c97-d528-6574a1e652f6",
        "colab": {
          "base_uri": "https://localhost:8080/",
          "height": 35
        }
      },
      "source": [
        "k,n = 0,10000  \n",
        "# k - успех\n",
        "# n - объем выборки\n",
        "a = np.random.randint(0,2,n)  \n",
        "# функция создает массив случайных чисел от 0 до 2 (не вкл), число элементов = n \n",
        "b = np.random.randint(0,2,n)\n",
        "c = np.random.randint(0,2,n)\n",
        "d = np.random.randint(0,2,n)\n",
        "x = a+b+c+d\n",
        "for i in range(0,n):\n",
        "  if x[i] == 2:\n",
        "    k = k+1\n",
        "# print(a,b,c,d)\n",
        "# print(x)\n",
        "print('k={}, n={}, k/n={}'.format(k,n,k/n))"
      ],
      "execution_count": 0,
      "outputs": [
        {
          "output_type": "stream",
          "text": [
            "k=3764, n=10000, k/n=0.3764\n"
          ],
          "name": "stdout"
        }
      ]
    },
    {
      "cell_type": "markdown",
      "metadata": {
        "id": "lg1Rjv-rNLXX",
        "colab_type": "text"
      },
      "source": [
        "Вывод всех возможных последовательостей испытаний"
      ]
    },
    {
      "cell_type": "code",
      "metadata": {
        "id": "IPmHnDHW_x9D",
        "colab_type": "code",
        "colab": {}
      },
      "source": [
        "import itertools"
      ],
      "execution_count": 0,
      "outputs": []
    },
    {
      "cell_type": "code",
      "metadata": {
        "id": "hkc4fA9OM5v5",
        "colab_type": "code",
        "outputId": "1a4e949b-4eee-4696-86bf-6c6d43de0157",
        "colab": {
          "base_uri": "https://localhost:8080/",
          "height": 295
        }
      },
      "source": [
        "n = 4  # количество подбрасываений монены\n",
        "for p in itertools.product('01', repeat=n):\n",
        "  print(''.join(p))\n",
        "\n",
        "# Итого 16 возможных вариантов как 2^n = 2^4 = 16"
      ],
      "execution_count": 0,
      "outputs": [
        {
          "output_type": "stream",
          "text": [
            "0000\n",
            "0001\n",
            "0010\n",
            "0011\n",
            "0100\n",
            "0101\n",
            "0110\n",
            "0111\n",
            "1000\n",
            "1001\n",
            "1010\n",
            "1011\n",
            "1100\n",
            "1101\n",
            "1110\n",
            "1111\n"
          ],
          "name": "stdout"
        }
      ]
    },
    {
      "cell_type": "markdown",
      "metadata": {
        "id": "JgZUIUIjUzSQ",
        "colab_type": "text"
      },
      "source": [
        "# Краткое введение в комбинаторику"
      ]
    },
    {
      "cell_type": "markdown",
      "metadata": {
        "id": "sY1vkcnIZYUF",
        "colab_type": "text"
      },
      "source": [
        "### Найдем число *размещений* 2 объектов из 4\n"
      ]
    },
    {
      "cell_type": "code",
      "metadata": {
        "id": "SLE1UbNoU119",
        "colab_type": "code",
        "outputId": "1d7ca3da-5c3a-45af-deb7-77f077a52f64",
        "colab": {
          "base_uri": "https://localhost:8080/",
          "height": 225
        }
      },
      "source": [
        "for p in itertools.permutations('0123', 2):\n",
        "  print(''.join(str(x) for x in p))"
      ],
      "execution_count": 0,
      "outputs": [
        {
          "output_type": "stream",
          "text": [
            "01\n",
            "02\n",
            "03\n",
            "10\n",
            "12\n",
            "13\n",
            "20\n",
            "21\n",
            "23\n",
            "30\n",
            "31\n",
            "32\n"
          ],
          "name": "stdout"
        }
      ]
    },
    {
      "cell_type": "markdown",
      "metadata": {
        "id": "5_TVXe_bZiA1",
        "colab_type": "text"
      },
      "source": [
        "### Найдем число *сочетаний* 2 объектов из 4\n"
      ]
    },
    {
      "cell_type": "code",
      "metadata": {
        "id": "7sohHzByZQtD",
        "colab_type": "code",
        "outputId": "d9277535-e510-4579-c67d-7c5ca180033b",
        "colab": {
          "base_uri": "https://localhost:8080/",
          "height": 121
        }
      },
      "source": [
        "for p in itertools.combinations('0123', 2):\n",
        "  print(''.join(str(x) for x in p))"
      ],
      "execution_count": 0,
      "outputs": [
        {
          "output_type": "stream",
          "text": [
            "01\n",
            "02\n",
            "03\n",
            "12\n",
            "13\n",
            "23\n"
          ],
          "name": "stdout"
        }
      ]
    },
    {
      "cell_type": "markdown",
      "metadata": {
        "id": "iKxJdfyVZxXT",
        "colab_type": "text"
      },
      "source": [
        "### Найдем число *перестановок* 2 объектов из 4\n"
      ]
    },
    {
      "cell_type": "code",
      "metadata": {
        "id": "jF-oQjTXZzGy",
        "colab_type": "code",
        "outputId": "d87dba37-dba4-425d-84c7-08f018446563",
        "colab": {
          "base_uri": "https://localhost:8080/",
          "height": 295
        }
      },
      "source": [
        "for p in itertools.product('01', repeat=4):\n",
        "  print(''.join(p))"
      ],
      "execution_count": 0,
      "outputs": [
        {
          "output_type": "stream",
          "text": [
            "0000\n",
            "0001\n",
            "0010\n",
            "0011\n",
            "0100\n",
            "0101\n",
            "0110\n",
            "0111\n",
            "1000\n",
            "1001\n",
            "1010\n",
            "1011\n",
            "1100\n",
            "1101\n",
            "1110\n",
            "1111\n"
          ],
          "name": "stdout"
        }
      ]
    },
    {
      "cell_type": "markdown",
      "metadata": {
        "id": "9ZmrSADzdayH",
        "colab_type": "text"
      },
      "source": [
        "# Регрессия и метод наименьших квадратов"
      ]
    },
    {
      "cell_type": "markdown",
      "metadata": {
        "id": "ohdK-XgyFT13",
        "colab_type": "text"
      },
      "source": [
        "### Интерполяция"
      ]
    },
    {
      "cell_type": "code",
      "metadata": {
        "id": "wNNF8H-cdeUz",
        "colab_type": "code",
        "outputId": "877c523a-7086-41b4-a399-4c2f109a0e1d",
        "colab": {
          "base_uri": "https://localhost:8080/",
          "height": 279
        }
      },
      "source": [
        "# Мы по точкам стороим график - инерполируем, \n",
        "# какой функции может соответствовать эти точки\n",
        "\n",
        "x = np.linspace(-2,3,21)\n",
        "plt.plot(x,x**2-1, 'ro-')\n",
        "plt.xlabel('x')\n",
        "plt.ylabel('y')\n",
        "plt.grid(True);"
      ],
      "execution_count": 0,
      "outputs": [
        {
          "output_type": "display_data",
          "data": {
            "image/png": "[encoded data removed]",
            "text/plain": [
              "<Figure size 432x288 with 1 Axes>"
            ]
          },
          "metadata": {
            "tags": []
          }
        }
      ]
    },
    {
      "cell_type": "markdown",
      "metadata": {
        "id": "EFXk7onSGTga",
        "colab_type": "text"
      },
      "source": [
        "### Регрессия"
      ]
    },
    {
      "cell_type": "code",
      "metadata": {
        "id": "lPhGo18PGUph",
        "colab_type": "code",
        "outputId": "9869f0c5-d19f-4116-8700-eef634e505c3",
        "colab": {
          "base_uri": "https://localhost:8080/",
          "height": 297
        }
      },
      "source": [
        "n = 100  # количество чисел\n",
        "r = 0.5\n",
        "x = np.random.rand(n)  # сгенерировали выборку из n случайных чисел\n",
        "y = r*x + (1-r)*np.random.rand(n)\n",
        "plt.scatter(x,y)\n",
        "plt.xlabel('x')\n",
        "plt.ylabel('y')\n",
        "plt.grid(True);\n",
        "\n",
        "c = np.corrcoef(x,y)[0][1]\n",
        "print('Коэффициент корреляции =',c)"
      ],
      "execution_count": 0,
      "outputs": [
        {
          "output_type": "stream",
          "text": [
            "Коэффициент корреляции = 0.731549291168943\n"
          ],
          "name": "stdout"
        },
        {
          "output_type": "display_data",
          "data": {
            "image/png": "[encoded data removed]",
            "text/plain": [
              "<Figure size 432x288 with 1 Axes>"
            ]
          },
          "metadata": {
            "tags": []
          }
        }
      ]
    },
    {
      "cell_type": "markdown",
      "metadata": {
        "id": "CZPqjEGF7w0g",
        "colab_type": "text"
      },
      "source": [
        "Построение графика линейной регрессии\n"
      ]
    },
    {
      "cell_type": "code",
      "metadata": {
        "id": "EmzV5Qhc-TNF",
        "colab_type": "code",
        "outputId": "205701c2-b5f8-466d-f223-0004f74628bb",
        "colab": {
          "base_uri": "https://localhost:8080/",
          "height": 334
        }
      },
      "source": [
        "n = 100   # количество чисел\n",
        "r = 0.7\n",
        "x = np.random.rand(n)  # сгенерировали выборку из n случайных чисел\n",
        "y = r*x + (1 - r)*np.random.rand(n)\n",
        "plt.plot(x, y, 'o')\n",
        "plt.xlabel('x')\n",
        "plt.ylabel('y')\n",
        "plt.grid(True)\n",
        "\n",
        "# 1 вариант расчета коэффициентов регресии (a и b)\n",
        "a = (np.sum(x)*np.sum(y) - n*np.sum(x*y))/(np.sum(x)*np.sum(x) - n*np.sum(x*x))\n",
        "b = (np.sum(y) - a*np.sum(x))/n\n",
        "\n",
        "# 2 вариант расчета коэффициентов регресии (a и b)\n",
        "A = np.vstack([x, np.ones(len(x))]).T\n",
        "a1, b1 = np.linalg.lstsq(A, y)[0]\n",
        "\n",
        "print(a, b,'\\n',a1, b1)  # коэффицинты LR\n",
        "\n",
        "x = np.linspace(0,1,20)\n",
        "y = a*x + b\n",
        "plt.plot(x,y);  # график LR\n",
        "\n",
        "c = np.corrcoef(x,y)[0][1]\n",
        "print('Коэффициент корреляции =',c)"
      ],
      "execution_count": 0,
      "outputs": [
        {
          "output_type": "stream",
          "text": [
            "0.7340978923969007 0.13438554676689485 \n",
            " 0.7340978923969002 0.13438554676689526\n",
            "Коэффициент корреляции = 1.0\n"
          ],
          "name": "stdout"
        },
        {
          "output_type": "display_data",
          "data": {
            "image/png": "[encoded data removed]",
            "text/plain": [
              "<Figure size 432x288 with 1 Axes>"
            ]
          },
          "metadata": {
            "tags": []
          }
        }
      ]
    }
  ]
}