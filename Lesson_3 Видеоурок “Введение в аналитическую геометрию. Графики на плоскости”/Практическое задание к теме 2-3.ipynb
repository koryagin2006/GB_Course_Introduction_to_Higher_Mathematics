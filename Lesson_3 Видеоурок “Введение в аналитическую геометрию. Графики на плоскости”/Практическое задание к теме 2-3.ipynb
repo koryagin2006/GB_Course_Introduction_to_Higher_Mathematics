{
 "cells": [
  {
   "cell_type": "code",
   "execution_count": 83,
   "metadata": {},
   "outputs": [],
   "source": [
    "%matplotlib inline\n",
    "import numpy as np\n",
    "import pandas as pd\n",
    "import matplotlib.pyplot as plt\n",
    "from pylab import rcParams\n",
    "from math import *"
   ]
  },
  {
   "cell_type": "markdown",
   "metadata": {},
   "source": [
    "# Задания к уроку 2"
   ]
  },
  {
   "cell_type": "markdown",
   "metadata": {},
   "source": [
    "## 1. Задание\n",
    "Даны два вектора в трехмерном пространстве: (10,10,10) и (0,0,-10)\n",
    "- Найдите их сумму. (на листочке)\n",
    "- Напишите код на Python, реализующий расчет длины вектора, заданного его координатами. (в программе)"
   ]
  },
  {
   "cell_type": "code",
   "execution_count": 16,
   "metadata": {},
   "outputs": [
    {
     "data": {
      "text/plain": [
       "11.357816691600547"
      ]
     },
     "execution_count": 16,
     "metadata": {},
     "output_type": "execute_result"
    }
   ],
   "source": [
    "# Вариант 1\n",
    "x = 10\n",
    "y = 5\n",
    "z = 2\n",
    "\n",
    "X_len = math.sqrt(x**2+y**2+z**2)\n",
    "X_len"
   ]
  },
  {
   "cell_type": "code",
   "execution_count": 19,
   "metadata": {},
   "outputs": [
    {
     "data": {
      "text/plain": [
       "11.357816691600547"
      ]
     },
     "execution_count": 19,
     "metadata": {},
     "output_type": "execute_result"
    }
   ],
   "source": [
    "# Вариант 2\n",
    "X = np.array([10,5,2])\n",
    "\n",
    "X_len = math.sqrt((X[0])**2 + (X[1])**2 + (X[2])**2)\n",
    "X_len"
   ]
  },
  {
   "cell_type": "markdown",
   "metadata": {},
   "source": [
    "## 2. Задание (на листочке)\n",
    "Почему прямые не кажутся перпендикулярными? (см.ролик)"
   ]
  },
  {
   "cell_type": "code",
   "execution_count": 86,
   "metadata": {},
   "outputs": [
    {
     "data": {
      "image/png": "[encoded data removed]",
      "text/plain": [
       "<Figure size 360x360 with 1 Axes>"
      ]
     },
     "metadata": {
      "needs_background": "light"
     },
     "output_type": "display_data"
    }
   ],
   "source": [
    "# rcParams['figure.figsize'] = 5, 5\n",
    "\n",
    "x = np.linspace(-5, 5, 21)\n",
    "y = 3*x+1\n",
    "y2 = (-1/3)*x+1\n",
    "plt.plot(x,y)\n",
    "plt.plot(x,y2)\n",
    "plt.xlabel(\"x\")\n",
    "plt.ylabel(\"y\")\n",
    "plt.grid();"
   ]
  },
  {
   "cell_type": "markdown",
   "metadata": {},
   "source": [
    "## 3. Задание (в программе)\n",
    "Напишите код на Python, реализующий построение графиков:\n",
    "- окружности,\n",
    "- эллипса,\n",
    "- гиперболы."
   ]
  },
  {
   "cell_type": "markdown",
   "metadata": {},
   "source": [
    "## 4. Задание (на листочке)"
   ]
  },
  {
   "cell_type": "markdown",
   "metadata": {},
   "source": [
    "### 1) Пусть задана плоскость:\n",
    "<img src=\"1.png\" alt=\"Drawing\" style=\"width: 250px;\">\n",
    "Напишите уравнение плоскости, параллельной данной и проходящей через начало координат."
   ]
  },
  {
   "cell_type": "markdown",
   "metadata": {},
   "source": [
    "### 2)  Пусть задана плоскость: \n",
    "```\n",
    "A1x + B1y + C1z + D1 = 0\n",
    "```\n",
    "и прямая:\n",
    "\n",
    "<img src=\"2.png\" alt=\"Drawing\" style=\"width: 250px;\">\n",
    "\n",
    "Как узнать, принадлежит прямая плоскости или нет?"
   ]
  },
  {
   "cell_type": "markdown",
   "metadata": {},
   "source": [
    "## 5. Задание (в программе)\n",
    "- 1) Нарисуйте трехмерный график двух параллельных плоскостей.\n",
    "- 2) Нарисуйте трехмерный график двух любых поверхностей второго порядка"
   ]
  },
  {
   "cell_type": "markdown",
   "metadata": {},
   "source": [
    "# Задания к уроку 3"
   ]
  },
  {
   "cell_type": "markdown",
   "metadata": {},
   "source": [
    "#### 0. Задание (сделайте себе шпаргалку перед глазами, если не помните) - не присылать\n",
    "Чему равны синус, косинус, тангенс перечисленных углов?\n",
    "Запишите значения в таблицу:\n",
    "<img src=\"3.png\" alt=\"Drawing\" style=\"width: 200px;\">"
   ]
  },
  {
   "cell_type": "markdown",
   "metadata": {},
   "source": [
    "## 1. Задание (в программе)\n",
    "Нарисуйте график функции:\n",
    "```\n",
    "y(x) = k∙cos(x – a) + b\n",
    "```\n",
    "для некоторых (2-3 различных) значений параметров k, a, b"
   ]
  },
  {
   "cell_type": "markdown",
   "metadata": {},
   "source": [
    "## 2. Задание \n",
    "Докажите, что при ортогональном преобразовании сохраняется расстояние между точками."
   ]
  },
  {
   "cell_type": "markdown",
   "metadata": {},
   "source": [
    "## 3. Задание (в программе)\n",
    "- Напишите код, который будет переводить полярные координаты в декартовы.\n",
    "- Напишите код, который будет рисовать график окружности в полярных координатах.\n",
    "- Напишите код, который будет рисовать график отрезка прямой линии в полярных координатах."
   ]
  },
  {
   "cell_type": "markdown",
   "metadata": {},
   "source": [
    "## 4. Задание (в программе)\n",
    "Решите систему уравнений:\n",
    "```\n",
    "y = x2 – 1\n",
    "exp(x) + x∙(1 – y) = 1\n",
    "```\n",
    "Решите систему уравнений и неравенств:\n",
    "```\n",
    "y = x2 – 1\n",
    "exp(x) + x∙(1 – y) > 1\n",
    "```"
   ]
  },
  {
   "cell_type": "code",
   "execution_count": null,
   "metadata": {},
   "outputs": [],
   "source": []
  }
 ],
 "metadata": {
  "kernelspec": {
   "display_name": "Python 3",
   "language": "python",
   "name": "python3"
  },
  "language_info": {
   "codemirror_mode": {
    "name": "ipython",
    "version": 3
   },
   "file_extension": ".py",
   "mimetype": "text/x-python",
   "name": "python",
   "nbconvert_exporter": "python",
   "pygments_lexer": "ipython3",
   "version": "3.7.4"
  }
 },
 "nbformat": 4,
 "nbformat_minor": 4
}
