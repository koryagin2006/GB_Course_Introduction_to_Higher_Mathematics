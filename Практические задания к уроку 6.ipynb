{
 "cells": [
  {
   "cell_type": "markdown",
   "metadata": {},
   "source": [
    "# Тема “Элементы теории вероятностей”"
   ]
  },
  {
   "cell_type": "markdown",
   "metadata": {},
   "source": [
    "## 1) Задание [сделал] (теорема сложения)\n",
    "Найти вероятность выпадения 2 или 5 очков при подбрасывании игральной кости, на гранях которой имеются соответственно 1,2,3,4,5 и 6 очков."
   ]
  },
  {
   "cell_type": "markdown",
   "metadata": {},
   "source": [
    "**Решение**:\n",
    "- P_2 = 1/6  # вероятность выпадения 2 очков\n",
    "- P_5 = 1/6  # вероятность выпадения 5 очков\n",
    " - P_25 =  P_2 + P_5\n",
    "- 1/6+1/6 = 1/3\n",
    "\n",
    "*Ответ* Вероятность выпадения 2 или 5 очков =1/3"
   ]
  },
  {
   "cell_type": "code",
   "execution_count": 4,
   "metadata": {},
   "outputs": [
    {
     "name": "stdout",
     "output_type": "stream",
     "text": [
      "Вероятность выпадения 2 или 5 очков = 0.3333333333333333\n"
     ]
    }
   ],
   "source": [
    "P_2 = 1/6  # вероятность выпадения 2 очков\n",
    "P_5 = 1/6  # вероятность выпадения 5 очков\n",
    "P_2_or_5 =  P_2 + P_5\n",
    "\n",
    "print(\"Вероятность выпадения 2 или 5 очков =\",P_2_or_5)"
   ]
  },
  {
   "cell_type": "markdown",
   "metadata": {},
   "source": [
    "## 2) Задание (теорема умножения)\n",
    "Найти вероятность того, что при двух подбрасываниях той же самой игральной кости сначала выпадет 2, а затем 5."
   ]
  },
  {
   "cell_type": "markdown",
   "metadata": {},
   "source": [
    "**Решение**:\n",
    "- P_2 = 1/6  # вероятность выпадения 2 очков\n",
    "- P_5 = 1/6  # вероятность выпадения 5 очков\n",
    " - P_25 =  P_2 * P_5\n",
    "- 1/6 * 1/6 = 1/36\n",
    "\n",
    "*Ответ* Вероятность выпадения 2 и 5 очков =1/36"
   ]
  },
  {
   "cell_type": "code",
   "execution_count": 8,
   "metadata": {},
   "outputs": [
    {
     "name": "stdout",
     "output_type": "stream",
     "text": [
      "Вероятность выпадения 2 или 5 очков = 0.027777777777777776\n"
     ]
    }
   ],
   "source": [
    "P_2 = 1/6  # вероятность выпадения 2 очков\n",
    "P_5 = 1/6  # вероятность выпадения 5 очков\n",
    "P_2_and_5 =  P_2 * P_5\n",
    "\n",
    "print(\"Вероятность выпадения 2 или 5 очков =\",P_2_and_5)"
   ]
  },
  {
   "cell_type": "markdown",
   "metadata": {},
   "source": [
    "## 3) Задание \n",
    "Найти вероятность выпадения 2 и 5 очков при двух подбрасываниях той же самой игральной игральной кости."
   ]
  },
  {
   "cell_type": "code",
   "execution_count": 54,
   "metadata": {},
   "outputs": [],
   "source": [
    "# не знаю пока"
   ]
  },
  {
   "cell_type": "markdown",
   "metadata": {},
   "source": [
    "## 4) Задание  (Геометрическая вероятность +интервалы)\n",
    "На отрезке AB длиной 20 см наугад отметили точку C. Какова вероятность, что она находится на расстоянии не более 9 см от точки А и не более 15 см от точки В?"
   ]
  },
  {
   "cell_type": "markdown",
   "metadata": {},
   "source": [
    "**Решение**:\n",
    "- длина отрезка попадания С = 9-(20-15) = 4\n",
    "- вероятность = 4/20 = 1/5\n",
    "\n",
    "*Ответ* 1/5"
   ]
  },
  {
   "cell_type": "code",
   "execution_count": 4,
   "metadata": {},
   "outputs": [],
   "source": [
    "import numpy as np\n",
    "from matplotlib import pyplot as plt"
   ]
  },
  {
   "cell_type": "code",
   "execution_count": 56,
   "metadata": {},
   "outputs": [
    {
     "data": {
      "image/png": "[encoded data removed]",
      "text/plain": [
       "<Figure size 720x144 with 1 Axes>"
      ]
     },
     "metadata": {
      "needs_background": "light"
     },
     "output_type": "display_data"
    }
   ],
   "source": [
    "plt.figure(figsize=([10,2]))\n",
    "plt.plot([0,20],[0,0], label=\" отрезок AB\", marker='o')\n",
    "plt.plot([9,20-15],[0,0], label=\" область попадания C\", c='r',linewidth = 10)\n",
    "plt.legend()\n",
    "plt.minorticks_on()\n",
    "plt.grid(which='major')\n",
    "plt.grid(which='minor',linestyle = ':');"
   ]
  },
  {
   "cell_type": "markdown",
   "metadata": {},
   "source": [
    "## 5) Задание. \n",
    "Телефонный номер состоит из 7 цифр. Какова вероятность, что это номер 8882227?"
   ]
  },
  {
   "cell_type": "code",
   "execution_count": null,
   "metadata": {},
   "outputs": [],
   "source": []
  },
  {
   "cell_type": "markdown",
   "metadata": {},
   "source": [
    "## 6) Задание. \n",
    "Набирая номер телефона, абонент забыл 2 последние цифры, и, помня только то, что эти цифры различны и среди них нет нуля, стал набирать их наудачу. Сколько вариантов ему надо перебрать, чтобы наверняка найти нужный номер? Какова вероятность того, что он угадает номер с первого раза?"
   ]
  },
  {
   "cell_type": "code",
   "execution_count": null,
   "metadata": {},
   "outputs": [],
   "source": []
  },
  {
   "cell_type": "markdown",
   "metadata": {},
   "source": [
    "## 7) Задание** (необязательное) \n",
    "Чёрный куб покрасили снаружи белой краской, затем разрезали на 27 одинаковых маленьких кубиков и как попало сложили из них большой куб. С какой вероятностью все грани этого куба будут белыми?"
   ]
  },
  {
   "cell_type": "code",
   "execution_count": null,
   "metadata": {},
   "outputs": [],
   "source": []
  }
 ],
 "metadata": {
  "kernelspec": {
   "display_name": "Python 3",
   "language": "python",
   "name": "python3"
  },
  "language_info": {
   "codemirror_mode": {
    "name": "ipython",
    "version": 3
   },
   "file_extension": ".py",
   "mimetype": "text/x-python",
   "name": "python",
   "nbconvert_exporter": "python",
   "pygments_lexer": "ipython3",
   "version": "3.7.4"
  }
 },
 "nbformat": 4,
 "nbformat_minor": 2
}
