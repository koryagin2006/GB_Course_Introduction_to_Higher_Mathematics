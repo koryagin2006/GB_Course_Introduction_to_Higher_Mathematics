{
 "cells": [
  {
   "cell_type": "code",
   "execution_count": 82,
   "metadata": {
    "colab": {},
    "colab_type": "code",
    "id": "XSiVKuoiezgd"
   },
   "outputs": [],
   "source": [
    "import numpy as np\n",
    "import matplotlib.pyplot as plt\n",
    "from pylab import rcParams\n",
    "rcParams['figure.figsize'] = 5, 5\n",
    "\n",
    "from math import *"
   ]
  },
  {
   "cell_type": "markdown",
   "metadata": {
    "colab_type": "text",
    "id": "UNbb7ZV_bsfh"
   },
   "source": [
    "# Практические задания к уроку 2\n",
    "Инструкции к сдаче:\n",
    "```\n",
    "Присылайте фото листочков с вашими решениями в текстовом файле .doc или .txt или в формате .pdf\n",
    "Прикладывайте ссылку на ваш репозиторий с кодом. Для написания кода используйте привычную среду программирования, желательно, Jupiter Notebook\n",
    "```"
   ]
  },
  {
   "cell_type": "markdown",
   "metadata": {
    "colab_type": "text",
    "id": "cqAdtYyibc96"
   },
   "source": [
    "# Тема “Элементарная алгебра”"
   ]
  },
  {
   "cell_type": "markdown",
   "metadata": {
    "colab_type": "text",
    "id": "D-JyZHcaccGA"
   },
   "source": [
    "## Задание 1 \n",
    "Напишите уравнение параболы, проходящей через три точки (x,y): \n",
    "(1,2),\n",
    "(3,10),\n",
    "(5,1)"
   ]
  },
  {
   "cell_type": "markdown",
   "metadata": {},
   "source": [
    " "
   ]
  },
  {
   "cell_type": "code",
   "execution_count": 97,
   "metadata": {},
   "outputs": [],
   "source": [
    "a = -2.125\n",
    "b = 12.5\n",
    "с = -8.375"
   ]
  },
  {
   "cell_type": "code",
   "execution_count": 101,
   "metadata": {},
   "outputs": [
    {
     "data": {
      "image/png": "[encoded data removed]",
      "text/plain": [
       "<Figure size 360x360 with 1 Axes>"
      ]
     },
     "metadata": {
      "needs_background": "light"
     },
     "output_type": "display_data"
    }
   ],
   "source": [
    "x = np.linspace(-10,10,100)\n",
    "y = a*x**2 + b*x + с\n",
    "\n",
    "plt.plot(x, y)\n",
    "plt.scatter([1,3,5],[2,10,1], marker='o',edgecolor='red')\n",
    "\n",
    "plt.title('График параболы')\n",
    "plt.grid()\n",
    "plt.show()"
   ]
  },
  {
   "cell_type": "markdown",
   "metadata": {
    "colab_type": "text",
    "id": "z_6wn6T5cht3"
   },
   "source": [
    "## Задание 2\n",
    "Известно, что свежий огурец на 99% состоит из воды. Месяц назад взвесили мешок со свежими огурцами. Получилось, что огурцов ровно 100 кг. Мешок убрали, а через месяц снова взвесили. Огурцы за это время усохли, и теперь вода составляет уже только 98% их веса. Сколько теперь (в кг) весят огурцы?"
   ]
  },
  {
   "cell_type": "markdown",
   "metadata": {},
   "source": [
    "```\n",
    "x = сyхой остаток\n",
    "y = вес мешка\n",
    "\n",
    "x + 0.99*100 = 100\n",
    "x + 0.98y = y\n",
    "\n",
    "x = 100 - 99 = 1\n",
    "1 + 0.98y = y\n",
    "\n",
    "1 = y - 0.98y\n",
    "1 = (1-0.98)y\n",
    "```\n",
    "$$y = \\dfrac{1}{1-0.98} = \\dfrac{1}{0.02} = 50$$\n",
    "\n",
    "Ответ: 50 кг\n"
   ]
  },
  {
   "cell_type": "markdown",
   "metadata": {
    "colab_type": "text",
    "id": "CezifxC6cj_-"
   },
   "source": [
    "## Задание 3\n",
    "Определение логарифма. Решить уравнения:"
   ]
  },
  {
   "cell_type": "markdown",
   "metadata": {
    "colab_type": "text",
    "id": "0pXhuYpqlaNX"
   },
   "source": [
    "![](https://keep.google.com/u/0/media/v2/1tbmq_mTmLAQ-bLSmunSTgjbh5w4msVqgOvFGO6IiMxeP25q2Iq4CbGQ7T9mtUNR4/1uw15KAQ_BZsCFVc_MGbCAqNxQuM46ibKVOKcB_aYtLbEodYHIme8UFV2SkrxmVcg?accept=image/gif,image/jpeg,image/jpg,image/png,image/webp,audio/aac&sz=450)"
   ]
  },
  {
   "cell_type": "code",
   "execution_count": 23,
   "metadata": {
    "colab": {
     "base_uri": "https://localhost:8080/",
     "height": 33
    },
    "colab_type": "code",
    "id": "6lCseOKgummk",
    "outputId": "c251b6f4-55a1-4621-bf99-8b0b276d9405"
   },
   "outputs": [
    {
     "data": {
      "text/plain": [
       "True"
      ]
     },
     "execution_count": 23,
     "metadata": {},
     "output_type": "execute_result"
    }
   ],
   "source": []
  },
  {
   "cell_type": "markdown",
   "metadata": {
    "colab_type": "text",
    "id": "vqWR9dKRcljp"
   },
   "source": [
    "## Задание 4\n",
    "Свойства логарифмов. Вычислить"
   ]
  },
  {
   "cell_type": "markdown",
   "metadata": {
    "colab_type": "text",
    "id": "PHNXGxF7ongP"
   },
   "source": [
    "![](https://keep.google.com/u/0/media/v2/10WHqhlnFJURWj4WJwwwcZ6s6gsSQDsMFicncBZZd3vP0PkHiTYsf8XPcVO9jtLzC/13Kzcz98NT4YbsdXeTN8tYv5LiKIAY-52q14yskq4ERjFA-9vuX27GuoEAbprEN8?accept=image/gif,image/jpeg,image/jpg,image/png,image/webp,audio/aac&sz=1030)"
   ]
  },
  {
   "cell_type": "code",
   "execution_count": 35,
   "metadata": {},
   "outputs": [
    {
     "data": {
      "text/plain": [
       "8.0"
      ]
     },
     "execution_count": 35,
     "metadata": {},
     "output_type": "execute_result"
    }
   ],
   "source": [
    "log(256, 2)"
   ]
  },
  {
   "cell_type": "code",
   "execution_count": null,
   "metadata": {},
   "outputs": [],
   "source": []
  }
 ],
 "metadata": {
  "colab": {
   "collapsed_sections": [],
   "name": "Высшая математика. Практические задания к уроку 2.ipynb",
   "provenance": []
  },
  "kernelspec": {
   "display_name": "Python 3",
   "language": "python",
   "name": "python3"
  },
  "language_info": {
   "codemirror_mode": {
    "name": "ipython",
    "version": 3
   },
   "file_extension": ".py",
   "mimetype": "text/x-python",
   "name": "python",
   "nbconvert_exporter": "python",
   "pygments_lexer": "ipython3",
   "version": "3.7.4"
  }
 },
 "nbformat": 4,
 "nbformat_minor": 1
}
