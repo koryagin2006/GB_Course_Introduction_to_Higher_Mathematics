{
 "cells": [
  {
   "cell_type": "code",
   "execution_count": 1,
   "metadata": {
    "colab": {},
    "colab_type": "code",
    "id": "XSiVKuoiezgd"
   },
   "outputs": [],
   "source": [
    "import numpy as np\n",
    "import matplotlib.pyplot as plt\n",
    "from pylab import rcParams\n",
    "rcParams['figure.figsize'] = 5, 5\n",
    "\n",
    "from math import *"
   ]
  },
  {
   "cell_type": "markdown",
   "metadata": {
    "colab_type": "text",
    "id": "UNbb7ZV_bsfh"
   },
   "source": [
    "# Практические задания к уроку 2\n",
    "Инструкции к сдаче:\n",
    "```\n",
    "Присылайте фото листочков с вашими решениями в текстовом файле .doc или .txt или в формате .pdf\n",
    "Прикладывайте ссылку на ваш репозиторий с кодом. Для написания кода используйте привычную среду программирования, желательно, Jupiter Notebook\n",
    "```"
   ]
  },
  {
   "cell_type": "markdown",
   "metadata": {
    "colab_type": "text",
    "id": "cqAdtYyibc96"
   },
   "source": [
    "# Тема “Элементарная алгебра”"
   ]
  },
  {
   "cell_type": "markdown",
   "metadata": {
    "colab_type": "text",
    "id": "D-JyZHcaccGA"
   },
   "source": [
    "## Задание 1 \n",
    "Напишите уравнение параболы, проходящей через три точки (x,y): \n",
    "(1,2),\n",
    "(3,10),\n",
    "(5,1)"
   ]
  },
  {
   "cell_type": "markdown",
   "metadata": {},
   "source": [
    "Уравнение параболы: y = ax<sup>2</sup> + bx + с\n",
    "\n",
    "Построим систему уравнений:\n",
    "```\n",
    "2 = a + b + с\n",
    "10 = 9а + 3b + \n",
    "1 = 25a + 5b + c\n",
    "```\n",
    "и решим систему\n",
    "```\n",
    "a = 2-b-c\n",
    "10 = 18-9b-9c+3b+c\n",
    "9c-c = 18-10-9b+3b\n",
    "\n",
    "c = (8-6b)/8 = 1-0.75b\n",
    "\n",
    "25(2-b-1+0.85b) + 5b + 1 - 0.75b - 1 = 0\n",
    "50-25b-25-18.75b+5b+1-0.75b-1 = 0\n",
    "25 + (-25+18.75+5-0.75)b = 0\n",
    "25-2b = 0\n",
    "\n",
    "b = 25/2 = 12.5\n",
    "с = 1-0,75*12,5 = -8,375\n",
    "а = 2-12,5+8,375 = -2,125\n",
    "```"
   ]
  },
  {
   "cell_type": "code",
   "execution_count": 7,
   "metadata": {},
   "outputs": [],
   "source": [
    "a = -2.125\n",
    "b = 12.5\n",
    "с = -8.375"
   ]
  },
  {
   "cell_type": "code",
   "execution_count": 9,
   "metadata": {},
   "outputs": [
    {
     "data": {
      "image/png": "[encoded data removed]",
      "text/plain": [
       "<Figure size 432x288 with 1 Axes>"
      ]
     },
     "metadata": {
      "needs_background": "light"
     },
     "output_type": "display_data"
    }
   ],
   "source": [
    "x = np.linspace(-10,10,100)\n",
    "y = a*x**2 + b*x + с\n",
    "\n",
    "plt.plot(x, y)\n",
    "plt.scatter([1,3,5],[2,10,1], marker='o',edgecolor='red')\n",
    "\n",
    "plt.title('График параболы')\n",
    "plt.grid();"
   ]
  },
  {
   "cell_type": "markdown",
   "metadata": {
    "colab_type": "text",
    "id": "z_6wn6T5cht3"
   },
   "source": [
    "## Задание 2\n",
    "Известно, что свежий огурец на 99% состоит из воды. Месяц назад взвесили мешок со свежими огурцами. Получилось, что огурцов ровно 100 кг. Мешок убрали, а через месяц снова взвесили. Огурцы за это время усохли, и теперь вода составляет уже только 98% их веса. Сколько теперь (в кг) весят огурцы?"
   ]
  },
  {
   "cell_type": "markdown",
   "metadata": {},
   "source": [
    "```\n",
    "x = сyхой остаток\n",
    "y = вес мешка\n",
    "\n",
    "x + 0.99*100 = 100\n",
    "x + 0.98y = y\n",
    "\n",
    "x = 100 - 99 = 1\n",
    "1 + 0.98y = y\n",
    "\n",
    "1 = y - 0.98y\n",
    "1 = (1-0.98)y\n",
    "```\n",
    "$$y = \\dfrac{1}{1-0.98} = \\dfrac{1}{0.02} = 50$$\n",
    "\n",
    "**Ответ: 50 кг**"
   ]
  },
  {
   "cell_type": "markdown",
   "metadata": {
    "colab_type": "text",
    "id": "CezifxC6cj_-"
   },
   "source": [
    "## Задание 3\n",
    "Определение логарифма. Решить уравнения:"
   ]
  },
  {
   "cell_type": "markdown",
   "metadata": {
    "colab_type": "text",
    "id": "PHNXGxF7ongP"
   },
   "source": [
    "<img src=\"unnamed3.png\" alt=\"Drawing\" style=\"width: 250px;\">"
   ]
  },
  {
   "cell_type": "markdown",
   "metadata": {
    "colab": {
     "base_uri": "https://localhost:8080/",
     "height": 33
    },
    "colab_type": "code",
    "id": "6lCseOKgummk",
    "outputId": "c251b6f4-55a1-4621-bf99-8b0b276d9405"
   },
   "source": [
    "<img src=\"20200222_220233.jpg\" alt=\"Drawing\" style=\"width: 700px;\">"
   ]
  },
  {
   "cell_type": "markdown",
   "metadata": {
    "colab_type": "text",
    "id": "vqWR9dKRcljp"
   },
   "source": [
    "## Задание 4\n",
    "Свойства логарифмов. Вычислить"
   ]
  },
  {
   "cell_type": "markdown",
   "metadata": {
    "colab_type": "text",
    "id": "0pXhuYpqlaNX"
   },
   "source": [
    "<img src=\"unnamed4.png\" alt=\"Drawing\" style=\"width: 400px;\">"
   ]
  },
  {
   "cell_type": "markdown",
   "metadata": {},
   "source": [
    "<img src=\"20200222_220326.jpg\" alt=\"Drawing\" style=\"width: 600px;\">"
   ]
  }
 ],
 "metadata": {
  "colab": {
   "collapsed_sections": [],
   "name": "Высшая математика. Практические задания к уроку 2.ipynb",
   "provenance": []
  },
  "kernelspec": {
   "display_name": "Python 3",
   "language": "python",
   "name": "python3"
  },
  "language_info": {
   "codemirror_mode": {
    "name": "ipython",
    "version": 3
   },
   "file_extension": ".py",
   "mimetype": "text/x-python",
   "name": "python",
   "nbconvert_exporter": "python",
   "pygments_lexer": "ipython3",
   "version": "3.7.4"
  }
 },
 "nbformat": 4,
 "nbformat_minor": 4
}
