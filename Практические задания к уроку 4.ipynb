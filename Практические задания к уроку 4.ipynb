{
  "nbformat": 4,
  "nbformat_minor": 0,
  "metadata": {
    "colab": {
      "name": "Практические задания к уроку 4.ipynb",
      "provenance": [],
      "collapsed_sections": [
        "kSlBh7eBu_Au",
        "LctgbTPNqht4",
        "DjPgfTciqk-b"
      ],
      "toc_visible": true
    },
    "kernelspec": {
      "name": "python3",
      "display_name": "Python 3"
    }
  },
  "cells": [
    {
      "cell_type": "markdown",
      "metadata": {
        "id": "7KnjU9Q2m3nv",
        "colab_type": "text"
      },
      "source": [
        "#### Подключение библиотек"
      ]
    },
    {
      "cell_type": "code",
      "metadata": {
        "id": "uLcWS189Ou0J",
        "colab_type": "code",
        "colab": {}
      },
      "source": [
        "%matplotlib inline\n",
        "import numpy as np\n",
        "import pandas as pd\n",
        "import matplotlib.pyplot as plt\n",
        "import matplotlib\n",
        "from pylab import rcParams\n",
        "import math\n",
        "\n",
        "import warnings\n",
        "warnings.filterwarnings('ignore')"
      ],
      "execution_count": 0,
      "outputs": []
    },
    {
      "cell_type": "markdown",
      "metadata": {
        "id": "zVAha5MXlaRu",
        "colab_type": "text"
      },
      "source": [
        "# Тема “Аналитическая геометрия”"
      ]
    },
    {
      "cell_type": "markdown",
      "metadata": {
        "id": "hWZ1cJZaldbK",
        "colab_type": "text"
      },
      "source": [
        "## 1). Задание **[сделал]** (на листочке)\n",
        "\n",
        "Решите уравнение \n",
        "sin(x)/x=0."
      ]
    },
    {
      "cell_type": "markdown",
      "metadata": {
        "id": "tVQGMGpWmUAS",
        "colab_type": "text"
      },
      "source": [
        "Решение:\n",
        "\n",
        "- ОДЗ: x != 0\n",
        "- если все = 0, а x!=0, то sin(x) = 0\n",
        "- значит x pi, то есть в обшем случае pi*n (где n - целое число, но не равно 0)\n",
        "\n",
        "**Ответ:** pi*n (где n - целое число, не равно 0)"
      ]
    },
    {
      "cell_type": "code",
      "metadata": {
        "id": "gDbLDJmPwFzA",
        "colab_type": "code",
        "outputId": "8f055f19-b8b1-4edb-e346-62221cefccc1",
        "colab": {
          "base_uri": "https://localhost:8080/",
          "height": 265
        }
      },
      "source": [
        "# Графическая проверка\n",
        "n = np.arange(-3*np.pi,3*np.pi,np.pi)\n",
        "x = np.linspace(-3*np.pi,3*np.pi,200)\n",
        "y = np.sin(x)\n",
        "\n",
        "plt.plot(x,y)\n",
        "plt.vlines(n, y.min(), y.max(), colors='red',linewidth=0.5)\n",
        "plt.grid(True);"
      ],
      "execution_count": 0,
      "outputs": [
        {
          "output_type": "display_data",
          "data": {
            "image/png": "[encoded data removed]",
            "text/plain": [
              "<Figure size 432x288 with 1 Axes>"
            ]
          },
          "metadata": {
            "tags": []
          }
        }
      ]
    },
    {
      "cell_type": "markdown",
      "metadata": {
        "id": "CfBn3vdRlro7",
        "colab_type": "text"
      },
      "source": [
        "## 2). Задание **[не смог]** (на листочке)\n",
        "Даны три прямые \n",
        "```\n",
        "y=k1*x+b1 \n",
        "y=k2*x+b2\n",
        "y=k3*x+b3\n",
        "```\n",
        "Как узнать, пересекаются они в одной точке или нет?"
      ]
    },
    {
      "cell_type": "markdown",
      "metadata": {
        "id": "DV3GkZulmV_r",
        "colab_type": "text"
      },
      "source": [
        "**не смог**"
      ]
    },
    {
      "cell_type": "markdown",
      "metadata": {
        "id": "k2tXiNF7lvDJ",
        "colab_type": "text"
      },
      "source": [
        "## 3). Задание **[не смог]** (в программе или на листочке)\n",
        "На листе тетради «в линейку» (расстояние между линиями равно а) лежит игла (длиной b). Координаты нижней точки иглы (х,у), игла лежит под углом alfa. Пересекает ли игла линию или нет?"
      ]
    },
    {
      "cell_type": "markdown",
      "metadata": {
        "id": "EFrYN5qBQVYz",
        "colab_type": "text"
      },
      "source": [
        "Игла пересекает, если выполяются 2 условия:\n",
        "1. угол наклона не равен 0, то есть если отрезок не параллелен\n",
        "2. длина отрезка позволяет ему пересекать линии\n",
        "\n",
        "Всего возможны 4 варианта событий:\n",
        "\n",
        "**А как вычислить - непонятно...**"
      ]
    },
    {
      "cell_type": "code",
      "metadata": {
        "id": "5N0Z89gPlzB7",
        "colab_type": "code",
        "outputId": "b3a89cba-1132-4a52-d134-097cae81193a",
        "colab": {
          "base_uri": "https://localhost:8080/",
          "height": 265
        }
      },
      "source": [
        "def lines(x,y,label_):\n",
        "  # a = 4\n",
        "  # x = np.linspace(0,6,50)\n",
        "  # y = k*x+b\n",
        "  plt.plot(x,y, linewidth=3, label=label_)\n",
        "  plt.hlines(np.arange(0,6,a), x.min(), x.max(), colors='b',linewidth=1)\n",
        "  plt.xlim(-2,7.5)\n",
        "  plt.grid(True)\n",
        "  plt.legend();\n",
        "\n",
        "lines(x=np.linspace(-1,6,50), y=0.3*x+1,label_='пересекает')\n",
        "lines(x=np.linspace(-1,6,50), y=0.1*x+0.5,label_='не пересекает')\n",
        "lines(x=np.linspace(2,6,50), y=0*x+0.3,label_='не пересекает')\n",
        "lines(x=np.linspace(0,1,50), y=0.2*x+2.5,label_='не пересекает')"
      ],
      "execution_count": 0,
      "outputs": [
        {
          "output_type": "display_data",
          "data": {
            "image/png": "[encoded data removed]",
            "text/plain": [
              "<Figure size 432x288 with 1 Axes>"
            ]
          },
          "metadata": {
            "tags": []
          }
        }
      ]
    },
    {
      "cell_type": "markdown",
      "metadata": {
        "id": "QwH1oK0xUiLZ",
        "colab_type": "text"
      },
      "source": [
        "Это Задача Бюффона о бросании иглы\n",
        "- [Статья в википедии](https://ru.wikipedia.org/wiki/%D0%97%D0%B0%D0%B4%D0%B0%D1%87%D0%B0_%D0%91%D1%8E%D1%84%D1%84%D0%BE%D0%BD%D0%B0_%D0%BE_%D0%B1%D1%80%D0%BE%D1%81%D0%B0%D0%BD%D0%B8%D0%B8_%D0%B8%D0%B3%D0%BB%D1%8B)\n",
        "- Краткий видеоразбор: https://www.youtube.com/watch?v=qhJbSOnImpg\n",
        "- Разбор без двойного интеграла (школьный вариант): http://www.e-osnova.ru/PDF/osnova_3_47_9914.pdf\n"
      ]
    },
    {
      "cell_type": "markdown",
      "metadata": {
        "id": "Ly2AhZWwXXMw",
        "colab_type": "text"
      },
      "source": [
        ""
      ]
    },
    {
      "cell_type": "markdown",
      "metadata": {
        "colab_type": "text",
        "id": "gPkTgML-TrRS"
      },
      "source": [
        "# Тема “Графики на плоскости”"
      ]
    },
    {
      "cell_type": "markdown",
      "metadata": {
        "id": "89VrJYJ6mC7T",
        "colab_type": "text"
      },
      "source": [
        "## 4). Задание** **[не делал]** (задание делать по желанию)\n"
      ]
    },
    {
      "cell_type": "markdown",
      "metadata": {
        "id": "NMrP9s6lUJkd",
        "colab_type": "text"
      },
      "source": [
        "Решите аналитически и потом численно (в программе) уравнение, зависящее от параметра а: \n",
        "- sin(а*x)=0\n",
        " - при условии: 0.01<a<0.02, 100<х<500.\n",
        "\n",
        "Т.е. надо найти решение х как функцию параметра а - построить график x=x(а).\n",
        "Если численным методом не получается найти все ветви решения x(а), то отыщите хотя бы одну."
      ]
    },
    {
      "cell_type": "code",
      "metadata": {
        "id": "8Mz8SjUq9V7D",
        "colab_type": "code",
        "colab": {}
      },
      "source": [
        ""
      ],
      "execution_count": 0,
      "outputs": []
    },
    {
      "cell_type": "markdown",
      "metadata": {
        "id": "kgFN9CPbk-Nd",
        "colab_type": "text"
      },
      "source": [
        "## 5). Задание 17.6.2 - 17.6.8 [сделал]"
      ]
    },
    {
      "cell_type": "markdown",
      "metadata": {
        "id": "t-KIixWBlDOt",
        "colab_type": "text"
      },
      "source": [
        "### 17.6.2. [сделал]\n",
        "![alt text](https://keep.google.com/u/0/media/v2/1WaD8vghK6FxuXigpYj9hdZVHMJSc1YaigFk1kaUHRyoOo-57eiDPTjHKejGnafQ/1Hw5qG5YaaytlaL4fuTghCbsHXpPBPbvr482sD7Nv11sy6vjnG6eW9fM1T5ZND9cp?accept=image/gif,image/jpeg,image/jpg,image/png,image/webp,audio/aac&sz=657)"
      ]
    },
    {
      "cell_type": "markdown",
      "metadata": {
        "id": "Qq8PENEqlhWW",
        "colab_type": "text"
      },
      "source": [
        "![alt text](https://lh5.googleusercontent.com/LoMK-IWV_wkDofPj_0zL6SIQwAZ7HX_UnLUXLeeMW_zOv_x2K8xtdlDd8vnpRjaig5UW7uce9SqzVohfD8jepYl_4X-sLeMupvleQZ-7hxq7_wSgLGH65OzFJdaIgyDm2VmX89hfgY_055Py0A)\n",
        "\n"
      ]
    },
    {
      "cell_type": "code",
      "metadata": {
        "id": "u3j44Vsp5XgH",
        "colab_type": "code",
        "colab": {}
      },
      "source": [
        "def line_angles(A1,A2,B1,B2):\n",
        "  k = (A2*B1-A1*B2)/(A1*A2+B1*B2)\n",
        "  alpha = np.rad2deg(np.arctan(k))\n",
        "  print('Угол равен {} градусов'.format(alpha))"
      ],
      "execution_count": 0,
      "outputs": []
    },
    {
      "cell_type": "code",
      "metadata": {
        "id": "qUhwaz5f4y2b",
        "colab_type": "code",
        "outputId": "b6dabcb3-b589-4368-d023-4f61bb76f775",
        "colab": {
          "base_uri": "https://localhost:8080/",
          "height": 34
        }
      },
      "source": [
        "line_angles(A1 = -3,\n",
        "            A2 = 1,\n",
        "            B1 = 4,\n",
        "            B2 = 7)"
      ],
      "execution_count": 0,
      "outputs": [
        {
          "output_type": "stream",
          "text": [
            "Угол равен 45.0 градусов\n"
          ],
          "name": "stdout"
        }
      ]
    },
    {
      "cell_type": "code",
      "metadata": {
        "id": "Nl6YTnDMr-58",
        "colab_type": "code",
        "outputId": "9d5db5a7-6129-4425-a678-aceb35fd6b6f",
        "colab": {
          "base_uri": "https://localhost:8080/",
          "height": 283
        }
      },
      "source": [
        "def line(x,y1,y2):\n",
        "  plt.figure(figsize=(4,4))\n",
        "  plt.plot(x,y1)\n",
        "  plt.plot(x,y2)\n",
        "  plt.xlabel(\"x\")\n",
        "  plt.ylabel(\"y\")\n",
        "  plt.xlim(0,10)\n",
        "  plt.ylim(0,10)\n",
        "  plt.grid(True)\n",
        "  plt.show()\n",
        "\n",
        "line(x = np.linspace(-10,10,50),\n",
        "     y1 = (14-x)/7,\n",
        "     y2 = (3*x-12)/4)"
      ],
      "execution_count": 0,
      "outputs": [
        {
          "output_type": "display_data",
          "data": {
            "image/png": "[encoded data removed]",
            "text/plain": [
              "<Figure size 288x288 with 1 Axes>"
            ]
          },
          "metadata": {
            "tags": []
          }
        }
      ]
    },
    {
      "cell_type": "markdown",
      "metadata": {
        "id": "bvr4DoTelTDM",
        "colab_type": "text"
      },
      "source": [
        "### 17.6.4. [сделал]\n",
        "![alt text](https://keep.google.com/u/0/media/v2/1kke6aTzDEhGL80BTtatHwFg7RCl_INBPOHf4qE9he-MoB7pm5kUaj9-upMgbvhQ/18CmsILyit_2cR_J47dXX12pxymHwJ-lrIFjxloDyaDtbEAQd2z1XI3zUghDB22i2?accept=image/gif,image/jpeg,image/jpg,image/png,image/webp,audio/aac&sz=639)"
      ]
    },
    {
      "cell_type": "markdown",
      "metadata": {
        "id": "VpQlHvgUlh5m",
        "colab_type": "text"
      },
      "source": [
        "Данные прямые параллельны"
      ]
    },
    {
      "cell_type": "code",
      "metadata": {
        "id": "sB7kLzxD4jCk",
        "colab_type": "code",
        "outputId": "50b178a0-b578-4eee-e9cd-24b528ac2b82",
        "colab": {
          "base_uri": "https://localhost:8080/",
          "height": 34
        }
      },
      "source": [
        "line_angles(A1 = 1,\n",
        "            A2 = 1,\n",
        "            B1 = 0,\n",
        "            B2 = 0)"
      ],
      "execution_count": 0,
      "outputs": [
        {
          "output_type": "stream",
          "text": [
            "Угол равен 0.0 градусов\n"
          ],
          "name": "stdout"
        }
      ]
    },
    {
      "cell_type": "code",
      "metadata": {
        "id": "uuqLT6uc6F37",
        "colab_type": "code",
        "outputId": "65d180eb-d488-4cfb-e5ec-b63002c1392c",
        "colab": {
          "base_uri": "https://localhost:8080/",
          "height": 283
        }
      },
      "source": [
        "plt.axvline(x= math.sqrt(2))\n",
        "plt.axvline(x= -math.sqrt(3))\n",
        "plt.xlabel(\"x\")\n",
        "plt.ylabel(\"y\")\n",
        "plt.xlim(-3,3)\n",
        "plt.grid(True)\n",
        "plt.show()"
      ],
      "execution_count": 0,
      "outputs": [
        {
          "output_type": "display_data",
          "data": {
            "image/png": "[encoded data removed]",
            "text/plain": [
              "<Figure size 432x288 with 1 Axes>"
            ]
          },
          "metadata": {
            "tags": []
          }
        }
      ]
    },
    {
      "cell_type": "markdown",
      "metadata": {
        "id": "kSlBh7eBu_Au",
        "colab_type": "text"
      },
      "source": [
        "### 17.6.5 - 17.6.8. [сделал]"
      ]
    },
    {
      "cell_type": "markdown",
      "metadata": {
        "id": "vm8Cy37clS1d",
        "colab_type": "text"
      },
      "source": [
        "![alt text](https://keep.google.com/u/0/media/v2/1hjrSXFsR-T8l_qkHr1zQ6n2KP9DbCHaBLiGL9fEsU1L-055R5EWCXVGbtBb17xes/1ZdiLlCYXffyLXFI1NOiXajtK78awQt_hbyFXPnc1NJC3anbgyln43U8vzk45H5w?accept=image/gif,image/jpeg,image/jpg,image/png,image/webp,audio/aac&sz=659)"
      ]
    },
    {
      "cell_type": "markdown",
      "metadata": {
        "id": "LctgbTPNqht4",
        "colab_type": "text"
      },
      "source": [
        "#### 17.6.5."
      ]
    },
    {
      "cell_type": "markdown",
      "metadata": {
        "id": "RTGmchQPm_LZ",
        "colab_type": "text"
      },
      "source": [
        "- y<sup>2</sup> - 2*x - 2*y - 5 = 0\n",
        "- (y<sup>2</sup> - 2y + 1) - 1 - 2x - 5 = 0\n",
        "- (y-1)<sup>2</sup> - 1 - 2x -5 = 0\n",
        "- (y-1)<sup>2</sup> - 2x - 6 = 0\n",
        "\n",
        "уравнение 2 порядка - **парабола**"
      ]
    },
    {
      "cell_type": "markdown",
      "metadata": {
        "id": "DjPgfTciqk-b",
        "colab_type": "text"
      },
      "source": [
        "#### 17.6.6."
      ]
    },
    {
      "cell_type": "markdown",
      "metadata": {
        "id": "rJiMWQilqo-t",
        "colab_type": "text"
      },
      "source": [
        "- 3x<sup>2</sup> + 5y<sup>2</sup> + 12x - 30y + 42 = 0\n",
        "-- 3x<sup>2</sup> + 12x = 3(x<sup>2</sup> + 2*2x + 4 - 4) = 3(x + 2)<sup>2</sup> - 12\n",
        "-- 5y<sup>2</sup> - 30y = 5(y<sup>2</sup> - 3*2y + 3<sup>2</sup> - 3<sup>2</sup>) = 5(y - 3)<sup>2</sup> - 45\n",
        "- 3(x + 2)<sup>2</sup> - 12 + 5(y - 3)<sup>2</sup> - 45 + 42 = 0\n",
        "- 3(x + 2)<sup>2</sup> + 5(y - 3)<sup>2</sup> = 15 |: 15\n",
        "- ((x + 2)<sup>2</sup>)/5 + ((y - 3)<sup>2</sup>)/3 = 1\n",
        "\n",
        "это эллипс с центром (-2;3)"
      ]
    }
  ]
}