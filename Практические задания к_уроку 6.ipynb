{
  "nbformat": 4,
  "nbformat_minor": 0,
  "metadata": {
    "celltoolbar": "Tags",
    "kernelspec": {
      "display_name": "Python 3",
      "language": "python",
      "name": "python3"
    },
    "language_info": {
      "codemirror_mode": {
        "name": "ipython",
        "version": 3
      },
      "file_extension": ".py",
      "mimetype": "text/x-python",
      "name": "python",
      "nbconvert_exporter": "python",
      "pygments_lexer": "ipython3",
      "version": "3.7.4"
    },
    "colab": {
      "name": "Практические задания к уроку 6.ipynb",
      "provenance": [],
      "collapsed_sections": [],
      "include_colab_link": true
    }
  },
  "cells": [
    {
      "cell_type": "markdown",
      "metadata": {
        "id": "view-in-github",
        "colab_type": "text"
      },
      "source": [
        "<a href=\"https://colab.research.google.com/github/koryagin2006/GB_Course_Introduction_to_Higher_Mathematics/blob/master/%D0%9F%D1%80%D0%B0%D0%BA%D1%82%D0%B8%D1%87%D0%B5%D1%81%D0%BA%D0%B8%D0%B5%20%D0%B7%D0%B0%D0%B4%D0%B0%D0%BD%D0%B8%D1%8F%20%D0%BA_%D1%83%D1%80%D0%BE%D0%BA%D1%83%206.ipynb\" target=\"_parent\"><img src=\"https://colab.research.google.com/assets/colab-badge.svg\" alt=\"Open In Colab\"/></a>"
      ]
    },
    {
      "cell_type": "code",
      "metadata": {
        "id": "nnpQGo43UxN5",
        "colab_type": "code",
        "colab": {}
      },
      "source": [
        "import numpy as np\n",
        "from matplotlib import pyplot as plt"
      ],
      "execution_count": 0,
      "outputs": []
    },
    {
      "cell_type": "code",
      "metadata": {
        "id": "DdlTqyUKUxOL",
        "colab_type": "code",
        "colab": {}
      },
      "source": [
        "import itertools"
      ],
      "execution_count": 0,
      "outputs": []
    },
    {
      "cell_type": "markdown",
      "metadata": {
        "id": "6_1n1cQuUxNd",
        "colab_type": "text"
      },
      "source": [
        "# Тема “Элементы теории вероятностей”"
      ]
    },
    {
      "cell_type": "markdown",
      "metadata": {
        "id": "URGVSZsOUxNi",
        "colab_type": "text"
      },
      "source": [
        "## 1) Задание (теорема сложения)\n",
        "Найти вероятность выпадения 2 или 5 очков при подбрасывании игральной кости, на гранях которой имеются соответственно 1,2,3,4,5 и 6 очков."
      ]
    },
    {
      "cell_type": "markdown",
      "metadata": {
        "id": "WK8YMGRoUxNj",
        "colab_type": "text"
      },
      "source": [
        "**Решение**:\n",
        "- P_2 = 1/6  # вероятность выпадения 2 очков\n",
        "- P_5 = 1/6  # вероятность выпадения 5 очков\n",
        " - P_25 =  P_2 + P_5\n",
        "- 1/6+1/6 = 1/3\n",
        "\n",
        "*Ответ* Вероятность выпадения 2 или 5 очков =1/3"
      ]
    },
    {
      "cell_type": "code",
      "metadata": {
        "id": "3cvNX_55UxNk",
        "colab_type": "code",
        "outputId": "617f8c5f-c303-4bd3-c32b-c90a9dc00bc9",
        "colab": {}
      },
      "source": [
        "P_2 = 1/6  # вероятность выпадения 2 очков\n",
        "P_5 = 1/6  # вероятность выпадения 5 очков\n",
        "P_2_or_5 =  P_2 + P_5\n",
        "\n",
        "print(\"Вероятность выпадения 2 или 5 очков =\",P_2_or_5)"
      ],
      "execution_count": 0,
      "outputs": [
        {
          "output_type": "stream",
          "text": [
            "Вероятность выпадения 2 или 5 очков = 0.3333333333333333\n"
          ],
          "name": "stdout"
        }
      ]
    },
    {
      "cell_type": "markdown",
      "metadata": {
        "id": "sgRMdXKyUxNr",
        "colab_type": "text"
      },
      "source": [
        "## 2) Задание (теорема умножения)\n",
        "Найти вероятность того, что при двух подбрасываниях той же самой игральной кости сначала выпадет 2, а затем 5."
      ]
    },
    {
      "cell_type": "markdown",
      "metadata": {
        "id": "pjHSPc8oUxNs",
        "colab_type": "text"
      },
      "source": [
        "**Решение**:\n",
        "- это 2 независимых события. расчет по теореме умножения\n",
        "- P_2 = 1/6  # вероятность выпадения 2 очков\n",
        "- P_5 = 1/6  # вероятность выпадения 5 очков\n",
        " - P_25 =  P_2 * P_5\n",
        "- 1/6 * 1/6 = 1/36\n",
        "\n",
        "*Ответ* Вероятность выпадения 2 и 5 очков =1/36"
      ]
    },
    {
      "cell_type": "code",
      "metadata": {
        "id": "ChEFpt_DUxNt",
        "colab_type": "code",
        "outputId": "c58a8b17-aac7-4b4c-cbff-231649562600",
        "colab": {
          "base_uri": "https://localhost:8080/",
          "height": 34
        }
      },
      "source": [
        "P_2 = 1/6  # вероятность выпадения 2 очков\n",
        "P_5 = 1/6  # вероятность выпадения 5 очков\n",
        "P_2_and_5 =  P_2 * P_5\n",
        "\n",
        "print(\"Вероятность выпадения 2 или 5 очков =\",P_2_and_5)"
      ],
      "execution_count": 0,
      "outputs": [
        {
          "output_type": "stream",
          "text": [
            "Вероятность выпадения 2 или 5 очков = 0.027777777777777776\n"
          ],
          "name": "stdout"
        }
      ]
    },
    {
      "cell_type": "markdown",
      "metadata": {
        "id": "GihH1AiaUxNx",
        "colab_type": "text"
      },
      "source": [
        "## 3) Задание \n",
        "Найти вероятность выпадения 2 и 5 очков при двух подбрасываниях той же самой игральной игральной кости."
      ]
    },
    {
      "cell_type": "markdown",
      "metadata": {
        "id": "uenam0_TVO9H",
        "colab_type": "text"
      },
      "source": [
        "В кости 2 кубика играют одновременно и не зависимо друг от друга имеют вероятность выпадения нужной грани 1/6\n",
        "\n",
        "Решение аналогично задачи №2. Вероятность будет 1/36"
      ]
    },
    {
      "cell_type": "markdown",
      "metadata": {
        "id": "rVxTTTWBUxN2",
        "colab_type": "text"
      },
      "source": [
        "## 4) Задание  (Геометрическая вероятность +интервалы)\n",
        "На отрезке AB длиной 20 см наугад отметили точку C. Какова вероятность, что она находится на расстоянии не более 9 см от точки А и не более 15 см от точки В?"
      ]
    },
    {
      "cell_type": "code",
      "metadata": {
        "id": "7HFgzhTeUxN9",
        "colab_type": "code",
        "outputId": "a21eb45c-715c-471d-b31d-83955f291808",
        "colab": {
          "base_uri": "https://localhost:8080/",
          "height": 156
        }
      },
      "source": [
        "def segment(AB,C):\n",
        "  \"\"\"\"Рисование отрезка\"\"\"\n",
        "  plt.figure(figsize=([15,2]))\n",
        "  plt.plot(AB,[0,0], label=\" отрезок AB\", marker='o')\n",
        "  plt.plot(C,[0,0], label=\" область попадания C\", c='r',linewidth = 10)\n",
        "  plt.legend()\n",
        "  plt.minorticks_on()\n",
        "  plt.grid(which='major')\n",
        "  plt.grid(which='minor',linestyle = ':');\n",
        "\n",
        "segment(AB=[0,20], C=[9,20-15])"
      ],
      "execution_count": 0,
      "outputs": [
        {
          "output_type": "display_data",
          "data": {
            "image/png": "[encoded data removed]",
            "text/plain": [
              "<Figure size 1080x144 with 1 Axes>"
            ]
          },
          "metadata": {
            "tags": []
          }
        }
      ]
    },
    {
      "cell_type": "markdown",
      "metadata": {
        "id": "7Fuef6KnUxN3",
        "colab_type": "text"
      },
      "source": [
        "**Решение**:\n",
        "- длина отрезка попадания С = 9-(20-15) = 4\n",
        "- вероятность = 4/20 = 1/5\n",
        "\n",
        "*Ответ* 1/5"
      ]
    },
    {
      "cell_type": "markdown",
      "metadata": {
        "id": "b_p07urhUxOB",
        "colab_type": "text"
      },
      "source": [
        "## 5) Задание. \n",
        "Телефонный номер состоит из 7 цифр. Какова вероятность, что это номер 8882227?"
      ]
    },
    {
      "cell_type": "markdown",
      "metadata": {
        "id": "aQO7e-8zUxOC",
        "colab_type": "text"
      },
      "source": [
        "**Решение**\n",
        "- Всего способов соствить номер из 7 цифр = 9\\*10^6\n",
        "- Способов составить номер 8882227 = 1\n",
        "- Р = 1/(9\\*10^6)\n",
        "\n",
        "*Ответ* 1/(9\\*10^6)"
      ]
    },
    {
      "cell_type": "code",
      "metadata": {
        "id": "2bZTV7uKUxOD",
        "colab_type": "code",
        "outputId": "b3731a5c-45d5-4082-c89e-6687e60f59ed",
        "colab": {}
      },
      "source": [
        "1/(9*(10**6))"
      ],
      "execution_count": 0,
      "outputs": [
        {
          "output_type": "execute_result",
          "data": {
            "text/plain": [
              "1.1111111111111111e-07"
            ]
          },
          "metadata": {
            "tags": []
          },
          "execution_count": 6
        }
      ]
    },
    {
      "cell_type": "markdown",
      "metadata": {
        "id": "zwO938wLUxOI",
        "colab_type": "text"
      },
      "source": [
        "## 6) Задание. \n",
        "Набирая номер телефона, абонент забыл 2 последние цифры, и, помня только то, что эти цифры различны и среди них нет нуля, стал набирать их наудачу. Сколько вариантов ему надо перебрать, чтобы наверняка найти нужный номер? Какова вероятность того, что он угадает номер с первого раза?"
      ]
    },
    {
      "cell_type": "markdown",
      "metadata": {
        "id": "1M5ntgzrUxOJ",
        "colab_type": "text"
      },
      "source": [
        "**Решение**\n",
        "- Всего способов соствить номер из 7 цифр, из которых 2 недостют 88888xx = 72\n",
        "- Р = 1/72\n",
        "\n",
        "*Ответ* Вероятность = 1/72 => абоненту, чтобы найти верный номер надо максимум перебрать 71 вариант"
      ]
    },
    {
      "cell_type": "code",
      "metadata": {
        "id": "W7yr4UjZUxOP",
        "colab_type": "code",
        "outputId": "2d5a6c90-d4f7-4c1f-989c-fee5f20a5733",
        "colab": {}
      },
      "source": [
        "a = []\n",
        "for p in itertools.permutations(range(1,10), 2):\n",
        "#     print(''.join(str(x) for x in p))\n",
        "    a.append(''.join(str(x) for x in p))\n",
        "len(a)"
      ],
      "execution_count": 0,
      "outputs": [
        {
          "output_type": "execute_result",
          "data": {
            "text/plain": [
              "72"
            ]
          },
          "metadata": {
            "tags": []
          },
          "execution_count": 8
        }
      ]
    },
    {
      "cell_type": "markdown",
      "metadata": {
        "id": "jPlr8dY4UxOS",
        "colab_type": "text"
      },
      "source": [
        "## 7) Задание** (необязательное) \n",
        "Чёрный куб покрасили снаружи белой краской, затем разрезали на 27 одинаковых маленьких кубиков и как попало сложили из них большой куб. С какой вероятностью все грани этого куба будут белыми?"
      ]
    },
    {
      "cell_type": "code",
      "metadata": {
        "id": "j9bMYTwRUxOT",
        "colab_type": "code",
        "colab": {}
      },
      "source": [
        "from mpl_toolkits.mplot3d import Axes3D"
      ],
      "execution_count": 0,
      "outputs": []
    },
    {
      "cell_type": "code",
      "metadata": {
        "id": "-nyKkvVdUxOW",
        "colab_type": "code",
        "outputId": "28abb3b6-00ec-41ff-fe13-5a68a2536d58",
        "colab": {}
      },
      "source": [
        "def cube(i):\n",
        "    \"\"\"\"Рисование куба\"\"\"\n",
        "    # prepare some coordinates\n",
        "    x, y, z = np.indices((i,i,i))\n",
        "    a = 1\n",
        "    cube2 = (x >= a) & (y >= a) & (z >= a)\n",
        "    # and plot everything\n",
        "    fig = plt.figure(figsize=([5,5]))\n",
        "    ax = fig.gca(projection='3d')\n",
        "    ax.voxels(cube2, facecolors='white', edgecolor='k');\n",
        "    \n",
        "cube(i=4)"
      ],
      "execution_count": 0,
      "outputs": [
        {
          "output_type": "display_data",
          "data": {
            "image/png": "[encoded data removed]",
            "text/plain": [
              "<Figure size 360x360 with 1 Axes>"
            ]
          },
          "metadata": {
            "tags": [],
            "needs_background": "light"
          }
        }
      ]
    },
    {
      "cell_type": "markdown",
      "metadata": {
        "id": "zfCZlrdTUxOa",
        "colab_type": "text"
      },
      "source": [
        "Что имеем:\n",
        "- у большого куба все 6 граней покрашены в белый цвет\n",
        "- после нарезки на 27 кубиков:\n",
        " - у 6 кубиков 1 белая грань\n",
        " - у 8 кубиков по 3 белых граней\n",
        " - у 12 кубиков по 2 белые грани\n",
        " - 1 кубик остался черным (центр)"
      ]
    },
    {
      "cell_type": "markdown",
      "metadata": {
        "id": "CiBVo6G3UxOb",
        "colab_type": "text"
      },
      "source": [
        "- вероятность каждого кубика встать \"нужной\" стороной и одновременно им нужно встать в нужное место\n",
        "    - 6 кубиков = 1/6\n",
        "    - 8 кубиков = 1/6\n",
        "    - 12 кубиков= 1/6\n",
        "        \n",
        "- вероятность черного встать в центр = 1/27"
      ]
    },
    {
      "cell_type": "code",
      "metadata": {
        "id": "fV14m-pFUxOc",
        "colab_type": "code",
        "outputId": "2f2b5857-543d-4c29-8023-0f3b6a072481",
        "colab": {}
      },
      "source": [
        "# Есть 4 вида кубиков\n",
        "P_A1 = (1/6)**6 * 6/27\n",
        "P_A2 = (1/6)**8 * 8/27\n",
        "P_A3 = (1/6)**12 * 12/27\n",
        "P_A4 = (6/6)**1 * 1/27\n",
        "\n",
        "P = P_A1 * P_A2 * P_A3 *P_A4\n",
        "print(\"Вероятность =\",P)"
      ],
      "execution_count": 0,
      "outputs": [
        {
          "output_type": "stream",
          "text": [
            "Вероятность = 6.3538201383358546e-24\n"
          ],
          "name": "stdout"
        }
      ]
    }
  ]
}