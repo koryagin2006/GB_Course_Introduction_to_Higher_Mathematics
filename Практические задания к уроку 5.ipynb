{
  "nbformat": 4,
  "nbformat_minor": 0,
  "metadata": {
    "colab": {
      "name": "Практические задания к уроку 5.ipynb",
      "provenance": [],
      "collapsed_sections": [
        "Rak9yElqOsej",
        "TF57henCOuGy",
        "gvxwf3rwPkLe",
        "cHSygdt4Pg2z",
        "dmHZtX2HOuls",
        "pHL6VFWqhQ6h"
      ]
    },
    "kernelspec": {
      "name": "python3",
      "display_name": "Python 3"
    }
  },
  "cells": [
    {
      "cell_type": "code",
      "metadata": {
        "id": "DlOdJWsQOb4d",
        "colab_type": "code",
        "colab": {}
      },
      "source": [
        "%matplotlib inline\n",
        "import numpy as np\n",
        "import matplotlib.pyplot as plt\n",
        "import matplotlib.mlab as mlab\n",
        "\n",
        "import warnings\n",
        "warnings.filterwarnings('ignore')"
      ],
      "execution_count": 0,
      "outputs": []
    },
    {
      "cell_type": "markdown",
      "metadata": {
        "id": "mwC73CR0OinL",
        "colab_type": "text"
      },
      "source": [
        "# Тема “Элементы теории вероятностей”"
      ]
    },
    {
      "cell_type": "markdown",
      "metadata": {
        "id": "Rak9yElqOsej",
        "colab_type": "text"
      },
      "source": [
        "### 1. Напишите код, моделирующий выпадение поля в рулетке (с учетом поля зеро)"
      ]
    },
    {
      "cell_type": "code",
      "metadata": {
        "id": "Koy4a4vFQRBS",
        "colab_type": "code",
        "outputId": "9f1249a6-7f3e-4031-fffd-a8dd8421787a",
        "colab": {
          "base_uri": "https://localhost:8080/"
        }
      },
      "source": [
        "import time\n",
        "\n",
        "for i in range(0, 5):\n",
        "  time.sleep(1)  # введем вместо нажатия на Enter запаздывание в цикл\n",
        "  x = np.random.uniform(0, 36)\n",
        "  x = int(round(x,0))\n",
        "  print(x)"
      ],
      "execution_count": 0,
      "outputs": [
        {
          "output_type": "stream",
          "text": [
            "23\n",
            "31\n",
            "9\n",
            "3\n",
            "4\n"
          ],
          "name": "stdout"
        }
      ]
    },
    {
      "cell_type": "markdown",
      "metadata": {
        "id": "-BRyzeyOOuBG",
        "colab_type": "text"
      },
      "source": [
        "### 2. \n"
      ]
    },
    {
      "cell_type": "markdown",
      "metadata": {
        "id": "afJ-WXqQOuEB",
        "colab_type": "text"
      },
      "source": [
        "#### 1. Напишите код, проверяющий любую из теорем сложения или умножения вероятности на примере рулетки или подбрасывания монетки.\n"
      ]
    },
    {
      "cell_type": "code",
      "metadata": {
        "id": "t39z-s5Rpla6",
        "colab_type": "code",
        "colab": {}
      },
      "source": [
        ""
      ],
      "execution_count": 0,
      "outputs": []
    },
    {
      "cell_type": "markdown",
      "metadata": {
        "id": "wJ_osymtPQpn",
        "colab_type": "text"
      },
      "source": [
        "#### Сгенерируйте десять выборок случайных чисел х0, …, х9 и постройте гистограмму распределения случайной суммы х0+х1+ …+ х9."
      ]
    },
    {
      "cell_type": "code",
      "metadata": {
        "id": "uYw4Isg9QQbc",
        "colab_type": "code",
        "outputId": "a8ac8df9-664e-42fd-d180-d922c2cf0fca",
        "colab": {
          "base_uri": "https://localhost:8080/",
          "height": 295
        }
      },
      "source": [
        "n = 100\n",
        "x = np.random.rand(n,10)\n",
        "x0,x1,x2,x3,x4,x5,x6,x7,x8,x9 = x[0],x[1],x[2],x[3],x[4],x[5],x[6],x[7],x[8],x[9]\n",
        "\n",
        "x_sum = x0+x1+x2+x3+x4+x5+x6+x7+x8+x9\n",
        "num_bins = 5  # количество бинов\n",
        "n, bins, patches = plt.hist(x_sum, num_bins)\n",
        "plt.xlabel('x')\n",
        "plt.ylabel('Probability')\n",
        "plt.title('Histogram');"
      ],
      "execution_count": 0,
      "outputs": [
        {
          "output_type": "display_data",
          "data": {
            "image/png": "[encoded data removed]",
            "text/plain": [
              "<Figure size 432x288 with 1 Axes>"
            ]
          },
          "metadata": {
            "tags": []
          }
        }
      ]
    },
    {
      "cell_type": "markdown",
      "metadata": {
        "id": "TF57henCOuGy",
        "colab_type": "text"
      },
      "source": [
        "### 3.\n",
        "\n"
      ]
    },
    {
      "cell_type": "markdown",
      "metadata": {
        "id": "gvxwf3rwPkLe",
        "colab_type": "text"
      },
      "source": [
        "#### 1. Дополните код Монте-Карло последовательности независимых испытаний расчетом соответствующих вероятностей (через биномиальное распределение) и сравните результаты."
      ]
    },
    {
      "cell_type": "markdown",
      "metadata": {
        "id": "_mJZ249f9oK4",
        "colab_type": "text"
      },
      "source": [
        "*P<sub>n</sub>(k) = C<sub>n</sub><sup>k</sup>p<sup>k</sup>q<sup>n-k</sup>*\n",
        "\n",
        "*C = n!/(k!(n-k)!)*"
      ]
    },
    {
      "cell_type": "code",
      "metadata": {
        "id": "V8FGxpiEQPl8",
        "colab_type": "code",
        "colab": {}
      },
      "source": [
        "import itertools\n",
        "from math import factorial"
      ],
      "execution_count": 0,
      "outputs": []
    },
    {
      "cell_type": "code",
      "metadata": {
        "id": "pgbdMjGBTl_v",
        "colab_type": "code",
        "outputId": "b99bb39e-7c4c-4b89-c5ef-f18423dff9f2",
        "colab": {
          "base_uri": "https://localhost:8080/"
        }
      },
      "source": [
        "n = 4\n",
        "k = 2\n",
        "C = factorial(n)/(factorial(k)*factorial(n-k))\n",
        "P = C*(1/(2**n))\n",
        "print('k={}, n={}, k/n={}'.format(k,n,k/n))\n",
        "print('Вероятность выпадения орла 2 раза подряд {} раз = {}'.format(k,P))"
      ],
      "execution_count": 0,
      "outputs": [
        {
          "output_type": "stream",
          "text": [
            "k=2, n=4, k/n=0.5\n",
            "Вероятность выпадения орла 2 раза подряд 2 раз = 0.375\n"
          ],
          "name": "stdout"
        }
      ]
    },
    {
      "cell_type": "markdown",
      "metadata": {
        "id": "cHSygdt4Pg2z",
        "colab_type": "text"
      },
      "source": [
        "#### 2. Повторите расчеты биномиальных коэффициентов и вероятностей k успехов в последовательности из n независимых испытаний, взяв другие значения n и k.\n"
      ]
    },
    {
      "cell_type": "code",
      "metadata": {
        "id": "KnNqB7dQ85Cl",
        "colab_type": "code",
        "outputId": "075e07e3-6681-4400-e3d6-157b513ae1c3",
        "colab": {
          "base_uri": "https://localhost:8080/"
        }
      },
      "source": [
        "k = 0\n",
        "n = 100\n",
        "a = np.random.randint(0,2,n)  \n",
        "b = np.random.randint(0,2,n)\n",
        "c = np.random.randint(0,2,n)\n",
        "d = np.random.randint(0,2,n)\n",
        "x = a+b+c+d\n",
        "for i in range(0,n):\n",
        "  if x[i] == 2:\n",
        "    k = k+1\n",
        "p = 0.5\n",
        "q = 0.5\n",
        "\n",
        "C = factorial(n)/(factorial(k)*factorial(n-k))\n",
        "P = C*(1/(2**n))\n",
        "print('k={}, n={}, k/n={}'.format(k,n,k/n))\n",
        "print('Вероятность выпадения орла 2 раза подряд {} раз = {}'.format(k,P))"
      ],
      "execution_count": 0,
      "outputs": [
        {
          "output_type": "stream",
          "text": [
            "k=43, n=100, k/n=0.43\n",
            "Вероятность выпадения орла 2 раза подряд 43 раз = 0.030068642644214563\n"
          ],
          "name": "stdout"
        }
      ]
    },
    {
      "cell_type": "markdown",
      "metadata": {
        "id": "dmHZtX2HOuls",
        "colab_type": "text"
      },
      "source": [
        "### 4. Из урока по комбинаторике повторите расчеты, сгенерировав возможные варианты перестановок для других значений n и k\n",
        "\n",
        "\n"
      ]
    },
    {
      "cell_type": "code",
      "metadata": {
        "id": "Pb3MnMzxQOud",
        "colab_type": "code",
        "colab": {}
      },
      "source": [
        "def combinations(k,n):\n",
        "  print('Сочетания при k= {} и n={}'.format(k,n))\n",
        "  for p in itertools.combinations(k, n):\n",
        "    print(''.join(str(x) for x in p))\n",
        "  print('-'*30)\n",
        "\n",
        "def permutations(k,n):\n",
        "  print('Размещения при k= {} и n={}'.format(k,n))\n",
        "  for p in itertools.permutations(k,n):\n",
        "    print(''.join(str(x) for x in p))\n",
        "  print('-'*30)\n",
        "\n",
        "def product(k,n):\n",
        "  print('Перестановки при k= {} и n={}'.format(k,n))\n",
        "  for p in itertools.product(k, repeat=n):\n",
        "    print(''.join(p))\n",
        "  print('-'*30)"
      ],
      "execution_count": 0,
      "outputs": []
    },
    {
      "cell_type": "code",
      "metadata": {
        "id": "4Us7x80YdHfU",
        "colab_type": "code",
        "outputId": "adbba26f-341d-4867-d046-1240bf79b3d1",
        "colab": {
          "base_uri": "https://localhost:8080/"
        }
      },
      "source": [
        "combinations('4321',3)\n",
        "permutations('3451',5)\n",
        "product('23',3)"
      ],
      "execution_count": 0,
      "outputs": [
        {
          "output_type": "stream",
          "text": [
            "Сочетания при k= 4321 и n=3\n",
            "432\n",
            "431\n",
            "421\n",
            "321\n",
            "------------------------------\n",
            "Размещения при k= 3451 и n=5\n",
            "------------------------------\n",
            "Перестановки при k= 23 и n=3\n",
            "222\n",
            "223\n",
            "232\n",
            "233\n",
            "322\n",
            "323\n",
            "332\n",
            "333\n",
            "------------------------------\n"
          ],
          "name": "stdout"
        }
      ]
    },
    {
      "cell_type": "markdown",
      "metadata": {
        "id": "9WaavuktOurN",
        "colab_type": "text"
      },
      "source": [
        "### 5. Дополните код расчетом коэффициента корреляции x и y по формуле"
      ]
    },
    {
      "cell_type": "markdown",
      "metadata": {
        "id": "rxeG3-88QJ1P",
        "colab_type": "text"
      },
      "source": [
        "![alt text](https://lh6.googleusercontent.com/ljnbysJzSx8xsPTsalAaoBDElunW_W3AG9OnCc942ymWBFV0yga1aHFsryxvhuFj7Ey3fnj9hQBqfXftNHu6kGfBGfpeNFDkIaZMC_KgJxDhm16J9dUhvWUykj2zzIpVs4PZ-2ug)"
      ]
    },
    {
      "cell_type": "markdown",
      "metadata": {
        "id": "pHL6VFWqhQ6h",
        "colab_type": "text"
      },
      "source": [
        "#### _\n",
        "---"
      ]
    },
    {
      "cell_type": "code",
      "metadata": {
        "id": "5SMMOKFoQORz",
        "colab_type": "code",
        "outputId": "49204cc9-0109-4566-e3b3-53c191af7266",
        "colab": {
          "base_uri": "https://localhost:8080/"
        }
      },
      "source": [
        "n = 100   # количество чисел\n",
        "r = 0.7\n",
        "x = np.random.rand(n)\n",
        "y = r*x + (1 - r)*np.random.rand(n)\n",
        "plt.plot(x, y, 'o')\n",
        "plt.xlabel('x')\n",
        "plt.ylabel('y')\n",
        "plt.grid(True)\n",
        "\n",
        "# 1 вариант расчета коэффициентов регресии (a и b)\n",
        "a = (np.sum(x)*np.sum(y) - n*np.sum(x*y))/(np.sum(x)*np.sum(x) - n*np.sum(x*x))\n",
        "b = (np.sum(y) - a*np.sum(x))/n\n",
        "x_lr = np.linspace(0,1,20)\n",
        "y_lr = a*x_lr + b\n",
        "plt.plot(x_lr,y_lr);  # график LR"
      ],
      "execution_count": 0,
      "outputs": [
        {
          "output_type": "display_data",
          "data": {
            "image/png": "[encoded data removed]",
            "text/plain": [
              "<Figure size 432x288 with 1 Axes>"
            ]
          },
          "metadata": {
            "tags": []
          }
        }
      ]
    },
    {
      "cell_type": "markdown",
      "metadata": {
        "id": "Q6eyzheBhKsW",
        "colab_type": "text"
      },
      "source": [
        "#### Расчет коэффициента корреляции"
      ]
    },
    {
      "cell_type": "code",
      "metadata": {
        "id": "PdJlvWC7GgPh",
        "colab_type": "code",
        "outputId": "67639b49-77ae-45b7-c278-f444ce0a8801",
        "colab": {
          "base_uri": "https://localhost:8080/",
          "height": 52
        }
      },
      "source": [
        "# 1. Способ по формуле\n",
        "x_m = np.average(x)\n",
        "y_m = np.average(y)\n",
        "numerator = np.sum((x - x_m) * (y - y_m))\n",
        "denominator = np.sum((x - x_m)**2) * np.sum((y - y_m)**2)\n",
        "R = numerator / (np.sqrt(denominator))\n",
        "print('Коэффициент корреляции по формуле =',R)\n",
        "\n",
        "# 2. Способ как метод numpy\n",
        "c = np.corrcoef(x,y)[0][1]\n",
        "print('Коэффициент корреляции (метод np) =',c)"
      ],
      "execution_count": 0,
      "outputs": [
        {
          "output_type": "stream",
          "text": [
            "Коэффициент корреляции по формуле = 0.9267700583447019\n",
            "Коэффициент корреляции (метод np) = 0.9267700583447014\n"
          ],
          "name": "stdout"
        }
      ]
    }
  ]
}