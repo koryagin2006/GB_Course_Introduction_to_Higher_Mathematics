{
 "cells": [
  {
   "cell_type": "code",
   "execution_count": 2,
   "metadata": {
    "colab": {},
    "colab_type": "code",
    "id": "umEKYc8WsUVK"
   },
   "outputs": [],
   "source": [
    "import numpy as np\n",
    "import matplotlib.pyplot as plt\n",
    "from mpl_toolkits.mplot3d import Axes3D\n",
    "from scipy.linalg import lu"
   ]
  },
  {
   "cell_type": "markdown",
   "metadata": {
    "colab_type": "text",
    "id": "8TvQo7Kiq1bS"
   },
   "source": [
    "# Практическое задание по теме \"Системы линейных алгебраических уравнений\":\n",
    "https://docs.google.com/document/d/1n_aHRBF6McVWJUM1YMnqqJD6HocVxjRJM2e7cAajHnc/edit"
   ]
  },
  {
   "cell_type": "markdown",
   "metadata": {
    "colab_type": "text",
    "id": "E7W_01CBq1bb"
   },
   "source": [
    "## 1. Решите линейную систему:\n",
    "<img src=\"https://github.com/koryagin2006/GB_Course_Introduction_to_Higher_Mathematics/blob/master/img/les_7_1.png?raw=1\" alt=\"Drawing\" style=\"width: 300px;\">"
   ]
  },
  {
   "cell_type": "code",
   "execution_count": 0,
   "metadata": {
    "colab": {},
    "colab_type": "code",
    "id": "JFSlroWGq1bc"
   },
   "outputs": [],
   "source": [
    "A1 = np.array([[1,2,3],[4,0,6],[7,8,9]])\n",
    "B1 = np.array([12,2,1])"
   ]
  },
  {
   "cell_type": "markdown",
   "metadata": {
    "colab_type": "text",
    "id": "xMsIhvAwq1bh"
   },
   "source": [
    "Решение"
   ]
  },
  {
   "cell_type": "code",
   "execution_count": 3,
   "metadata": {
    "colab": {
     "base_uri": "https://localhost:8080/",
     "height": 69
    },
    "colab_type": "code",
    "id": "QHAuv4goq1bi",
    "outputId": "06f279f9-1fd2-4ca8-9411-1cfd3751dd5a"
   },
   "outputs": [
    {
     "name": "stdout",
     "output_type": "stream",
     "text": [
      "x_1 = -9.2\n",
      "x_2 = 0.9\n",
      "x_3 = 6.46667\n"
     ]
    }
   ],
   "source": [
    "X1 = np.linalg.solve(A1,B1)\n",
    "\n",
    "for i in range(3):\n",
    "    print(f'x_{i+1} = {round(X1[i], 5)}')\n",
    "# Сделал с округлением для читаемости"
   ]
  },
  {
   "cell_type": "markdown",
   "metadata": {
    "colab_type": "text",
    "id": "YETsAv2oq1bo"
   },
   "source": [
    "## 2. Найдите псевдорешение:\n",
    "```\n",
    "x + 2y – z = 1\n",
    "3x – 4y = 7\n",
    "8x – 5y + 2z = 12\n",
    "2x – 5z = 7\n",
    "11x +4y – 7z = 15\n",
    "```"
   ]
  },
  {
   "cell_type": "code",
   "execution_count": 0,
   "metadata": {
    "colab": {},
    "colab_type": "code",
    "id": "WZGGtTgpq1bp"
   },
   "outputs": [],
   "source": [
    "A2 = np.array([[1,2,-1],\n",
    "              [3,-4,0],\n",
    "              [8,-5,2],\n",
    "              [2,0,-5],\n",
    "              [11,4,-7]])\n",
    "B2 = np.array([1,7,12,7,12])"
   ]
  },
  {
   "cell_type": "markdown",
   "metadata": {
    "colab_type": "text",
    "id": "EREXitImu7Z2"
   },
   "source": [
    "Решение"
   ]
  },
  {
   "cell_type": "code",
   "execution_count": 5,
   "metadata": {
    "colab": {
     "base_uri": "https://localhost:8080/",
     "height": 87
    },
    "colab_type": "code",
    "id": "Pi_APGyTt2M5",
    "outputId": "9c559703-647a-4fe7-f5c2-622b13de91b1"
   },
   "outputs": [
    {
     "data": {
      "text/plain": [
       "(array([ 0.96772642, -1.11719341, -0.89887891]),\n",
       " array([2.77449966]),\n",
       " 3,\n",
       " array([15.2817306 ,  9.59852942,  3.65197794]))"
      ]
     },
     "execution_count": 5,
     "metadata": {
      "tags": []
     },
     "output_type": "execute_result"
    }
   ],
   "source": [
    "X2 = np.linalg.lstsq(A2,B2, rcond=None)\n",
    "X2"
   ]
  },
  {
   "cell_type": "code",
   "execution_count": 6,
   "metadata": {
    "colab": {
     "base_uri": "https://localhost:8080/",
     "height": 35
    },
    "colab_type": "code",
    "id": "2Q_JBJumx_jl",
    "outputId": "7ea9b193-46bc-4f23-d4ae-9b15a67ee508"
   },
   "outputs": [
    {
     "data": {
      "text/plain": [
       "array([-0.37,  7.37, 11.53,  6.43, 12.47])"
      ]
     },
     "execution_count": 6,
     "metadata": {
      "tags": []
     },
     "output_type": "execute_result"
    }
   ],
   "source": [
    "# Проверка\n",
    "np.around(np.dot(A2, [X2[0][0], X2[0][1], X2[0][2]]), decimals=2)"
   ]
  },
  {
   "cell_type": "markdown",
   "metadata": {
    "colab_type": "text",
    "id": "B3eeVm8qq1bt"
   },
   "source": [
    "## 3. Сколько решений имеет линейная система:\n",
    "<img src=\"https://github.com/koryagin2006/GB_Course_Introduction_to_Higher_Mathematics/blob/master/img/les_7_2.png?raw=1\" alt=\"Drawing\" style=\"width: 300px;\">"
   ]
  },
  {
   "cell_type": "code",
   "execution_count": 0,
   "metadata": {
    "colab": {},
    "colab_type": "code",
    "id": "e5ktNTo-xeVZ"
   },
   "outputs": [],
   "source": [
    "A3 = np.arange(1,10).reshape(3,3)\n",
    "B3 = np.array([[12,2,1]])"
   ]
  },
  {
   "cell_type": "markdown",
   "metadata": {
    "colab_type": "text",
    "id": "AX6sQU0iIqkY"
   },
   "source": [
    "Решение"
   ]
  },
  {
   "cell_type": "code",
   "execution_count": 8,
   "metadata": {
    "colab": {
     "base_uri": "https://localhost:8080/",
     "height": 87
    },
    "colab_type": "code",
    "id": "-m_EbizhKcSv",
    "outputId": "9b411939-d0ef-4376-9f6f-10345c46342c"
   },
   "outputs": [
    {
     "name": "stdout",
     "output_type": "stream",
     "text": [
      "СЛАУ несовместна - не имеет решений\n"
     ]
    },
    {
     "data": {
      "text/plain": [
       "array([[ 1,  2,  3, 12],\n",
       "       [ 4,  5,  6,  2],\n",
       "       [ 7,  8,  9,  1]])"
      ]
     },
     "execution_count": 8,
     "metadata": {
      "tags": []
     },
     "output_type": "execute_result"
    }
   ],
   "source": [
    "C3 = np.concatenate((A3,B3.T), axis=1)\n",
    "\n",
    "if np.linalg.matrix_rank(A3, 0.0001) == np.linalg.matrix_rank(C3, 0.0001):\n",
    "  print('СЛАУ совместна')\n",
    "else:\n",
    "  print('СЛАУ несовместна - не имеет решений')\n",
    "C3"
   ]
  },
  {
   "cell_type": "markdown",
   "metadata": {
    "colab_type": "text",
    "id": "YNa6pyF2q1bu"
   },
   "source": [
    "Если ноль – то измените вектор правой части так, чтобы система стала совместной, и решите ее.\n"
   ]
  },
  {
   "cell_type": "code",
   "execution_count": 9,
   "metadata": {
    "colab": {
     "base_uri": "https://localhost:8080/",
     "height": 121
    },
    "colab_type": "code",
    "id": "wNojMGkmxgOO",
    "outputId": "fef177bd-c7e4-4c54-ef8d-e65801f3fdb4"
   },
   "outputs": [
    {
     "name": "stdout",
     "output_type": "stream",
     "text": [
      "Ранг А =  3\n",
      "Ранг С =  3\n",
      "\n"
     ]
    },
    {
     "data": {
      "text/plain": [
       "array([[ 1,  3,  3,  2],\n",
       "       [ 4,  5,  6,  2],\n",
       "       [ 7,  8, 10,  1]])"
      ]
     },
     "execution_count": 9,
     "metadata": {
      "tags": []
     },
     "output_type": "execute_result"
    }
   ],
   "source": [
    "# изменим\n",
    "A3_2 = np.array([[1,3,3],[4,5,6],[7,8,10]])\n",
    "B3_2 = np.array([[2,2,1]])\n",
    "\n",
    "C3_2 = np.concatenate((A3_2,B3_2.T), axis=1)\n",
    "print('Ранг А = ',np.linalg.matrix_rank(A3_2, 0.0001)) \n",
    "print('Ранг С = ',np.linalg.matrix_rank(C3_2, 0.0001))\n",
    "print('')\n",
    "C3_2"
   ]
  },
  {
   "cell_type": "code",
   "execution_count": 14,
   "metadata": {
    "colab": {
     "base_uri": "https://localhost:8080/",
     "height": 35
    },
    "colab_type": "code",
    "id": "NLraSRgKT_Cw",
    "outputId": "8152a267-a7f4-4163-e789-367d7e9637a3"
   },
   "outputs": [
    {
     "name": "stdout",
     "output_type": "stream",
     "text": [
      "-0.9999999999999964\n"
     ]
    }
   ],
   "source": [
    "print(np.linalg.det(A3_2))\n",
    "\n",
    "# np.linalg.solve(A3_2,B3_2)"
   ]
  },
  {
   "cell_type": "markdown",
   "metadata": {
    "colab_type": "text",
    "id": "viBt2x7lq1bx"
   },
   "source": [
    "## 4. Вычислите LU-разложение матрицы:\n",
    "<img src=\"https://github.com/koryagin2006/GB_Course_Introduction_to_Higher_Mathematics/blob/master/img/les_7_3.png?raw=1\" alt=\"Drawing\" style=\"width: 100px;\">\n",
    "\n",
    "После этого придумайте вектор правых частей и решите полученную линейную систему трех уравнений с данной матрицей."
   ]
  },
  {
   "cell_type": "code",
   "execution_count": 30,
   "metadata": {
    "colab": {},
    "colab_type": "code",
    "id": "BlJfOMLhq1by"
   },
   "outputs": [],
   "source": [
    "A4 = np.array([[1,2,3],\n",
    "               [2,16,21],\n",
    "               [4,28,73]])"
   ]
  },
  {
   "cell_type": "code",
   "execution_count": 31,
   "metadata": {
    "colab": {
     "base_uri": "https://localhost:8080/",
     "height": 166
    },
    "colab_type": "code",
    "id": "vf-vtUgnjYPe",
    "outputId": "3bc6a5bb-a8e3-4cb8-a0a1-bf2e6c94826a"
   },
   "outputs": [
    {
     "data": {
      "text/plain": [
       "array([[ 4., 28., 73.],\n",
       "       [ 1.,  2.,  3.],\n",
       "       [ 2., 16., 21.]])"
      ]
     },
     "execution_count": 31,
     "metadata": {},
     "output_type": "execute_result"
    }
   ],
   "source": [
    "P, L, U = lu(A4)\n",
    "\n",
    "np.dot(L,U)"
   ]
  },
  {
   "cell_type": "markdown",
   "metadata": {
    "colab_type": "text",
    "id": "DMWqd3bRq1b2"
   },
   "source": [
    "## 5. Найдите нормальное псевдорешение недоопределенной системы:\n",
    "```\n",
    "x + 2y – z = 1\n",
    "8x – 5y + 2z = 12\n",
    "```\n",
    "Для этого определите функцию Q(x,y,z), равную норме решения, и найдите ее минимум. "
   ]
  },
  {
   "cell_type": "code",
   "execution_count": 33,
   "metadata": {
    "colab": {},
    "colab_type": "code",
    "id": "MXlqjeHkq1b3"
   },
   "outputs": [],
   "source": [
    "A5 = np.array([[1,2,-1],[8,-5,2]])\n",
    "B5 = np.array([1,12])"
   ]
  },
  {
   "cell_type": "markdown",
   "metadata": {},
   "source": [
    "Решение"
   ]
  },
  {
   "cell_type": "code",
   "execution_count": 38,
   "metadata": {},
   "outputs": [
    {
     "data": {
      "text/plain": [
       "131621703842267161"
      ]
     },
     "execution_count": 38,
     "metadata": {},
     "output_type": "execute_result"
    }
   ],
   "source": [
    "def Q(x,y,z):\n",
    "    return (x**2 + y**2 + z**22)\n",
    "Q(3,4,6)"
   ]
  },
  {
   "cell_type": "code",
   "execution_count": 41,
   "metadata": {},
   "outputs": [],
   "source": [
    "from pylab import *\n",
    "from mpl_toolkits.mplot3d import Axes3D"
   ]
  },
  {
   "cell_type": "code",
   "execution_count": null,
   "metadata": {},
   "outputs": [],
   "source": []
  },
  {
   "cell_type": "markdown",
   "metadata": {},
   "source": [
    "минимум нормы решение"
   ]
  },
  {
   "cell_type": "code",
   "execution_count": 36,
   "metadata": {},
   "outputs": [
    {
     "data": {
      "text/plain": [
       "array([ 1.38191882, -0.18081181,  0.0202952 ])"
      ]
     },
     "execution_count": 36,
     "metadata": {},
     "output_type": "execute_result"
    }
   ],
   "source": [
    "np.linalg.lstsq(A5,B5, rcond=None)[0]"
   ]
  },
  {
   "cell_type": "markdown",
   "metadata": {
    "colab_type": "text",
    "id": "GEXlzjLEq1b6"
   },
   "source": [
    "## 6. Найдите одно из псевдорешений вырожденной системы:\n",
    "<img src=\"https://github.com/koryagin2006/GB_Course_Introduction_to_Higher_Mathematics/blob/master/img/les_7_4.png?raw=1\" alt=\"Drawing\" style=\"width: 300px;\">\n",
    "Попробуйте также отыскать и нормальное псевдорешение."
   ]
  },
  {
   "cell_type": "code",
   "execution_count": 0,
   "metadata": {
    "colab": {},
    "colab_type": "code",
    "id": "i0SKQrclq1b7"
   },
   "outputs": [],
   "source": []
  }
 ],
 "metadata": {
  "colab": {
   "collapsed_sections": [],
   "name": "Практические задания к уроку 7_2.ipynb",
   "provenance": []
  },
  "kernelspec": {
   "display_name": "Python 3",
   "language": "python",
   "name": "python3"
  },
  "language_info": {
   "codemirror_mode": {
    "name": "ipython",
    "version": 3
   },
   "file_extension": ".py",
   "mimetype": "text/x-python",
   "name": "python",
   "nbconvert_exporter": "python",
   "pygments_lexer": "ipython3",
   "version": "3.7.4"
  }
 },
 "nbformat": 4,
 "nbformat_minor": 1
}
